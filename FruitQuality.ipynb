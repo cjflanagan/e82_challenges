{
 "cells": [
  {
   "cell_type": "markdown",
   "metadata": {},
   "source": [
    "# Fruit Inspection Challenge\n",
    "\n",
    "## CSCI E82A\n",
    "\n",
    ">**Make sure** you include your name along with the name of your team and team members in the notebook you submit. \n",
    "\n",
    "## Introduction\n",
    "\n",
    "In a previous homework assignment you computed the utility of various approaches to fruit inspection using two unreliable sensors along with human inspection. This challenge exercise differs in from the homework assignment in the following ways:\n",
    "1. Most importantly, this is not a guided lab, but rather you are free to apply the methods of your choice\n",
    "2. The parameters for the CPDs must be estimated from data samples.\n",
    "3. There are a larger number of CPDs.\n",
    "4. You will perform a query on your graphical model.  "
   ]
  },
  {
   "cell_type": "markdown",
   "metadata": {},
   "source": [
    "###  Background\n",
    "\n",
    "Bob's Orchards is a premium seller of apples and pears. Bob's customers pay a substantial premium for superior fruit. To satisfy these customers, Bob's must ensure that the fruit delivered is correctly packed and perfectly ripe. \n",
    "\n",
    "Like many legacy industries requiring specialized human skills, Bob's is facing a talent problem. Many of the human inspectors who expertly check each piece of fruit shipped for ripeness are retiring. Management's attempts to recruit and train younger people to apprentice as fruit inspectors have been mixed. In fact, not only is it difficult to recruit people willing to train as inspectors but, it is believed that the newly trained inspectors are prone to errors. Therefore, it has become imperative to find some type of automated system which can reduce the workload on the diminishing number of human inspectors. To address this problem, Bob's has deployed technology from Robots R Us.\n",
    "\n",
    "The first robotic system to be deployed at Bob's uses a multi-sensor array to determine if the fruit being shipped is at the correct ripeness. There are two sensors, a vision system that examines the fruit for spots or damage, indicating the fruit is over ripe, and a smell sensor that determines if the fruit is not ripe enough. If either sensor indicates the fruit is bad it is sent to a human inspector. In addition customers may reject even perfect fruit for no apparent reason, whereas others seem perfectly happy with less than perfect fruit.   \n"
   ]
  },
  {
   "cell_type": "markdown",
   "metadata": {},
   "source": [
    "\n",
    "## Scenario \n",
    "\n",
    "In order to better understand the fruit inspection process and customer acceptance of the fruit, Bob's management has authorized the shipment of 1,000 randomly selected orders. All available inspection methods will be applied to each order. Further, a team of the most experienced inspectors will provide an absolute baseline on order quality. The orders will be shipped to customers regardless of the outcome of the inspections. \n",
    "\n",
    "Shipping orders regardless of inspection outcome is a significant departure from long-held beliefs and traditions at Bobs. However, the data collected provide a powerful source of information for improving Bob's overall customer satisfaction, which is highly valued by Bob's management.   \n",
    "\n",
    "Your goal, as the consulting team, is to determine which inspection methods and any other possible process improvement Bob's should apply to maximize customer satisfaction as measured by utility. You will use the data collected from the 1,000 orders to "
   ]
  },
  {
   "cell_type": "markdown",
   "metadata": {},
   "source": [
    "### Data description \n",
    "\n",
    "For the 1,000 orders in the test sample a number of attributes have been collected. These data are in the `fruit_data.csv` file. The columns in the data set are:\n",
    "1.  **weather:** indicates the weather conditions the day before the fruit is harvested; 0 = wet, 1 = dry. Prior information indicates that the statistics of weather are constant over the harvest period. \n",
    "2. **week:** indicates the week the fruit is harvested; 0 = week 1, 1 = week2. There is a two week harvest season for Bob's orchard where the fruit comes from. \n",
    "3. **good_bad** is the quality assigned to the fruit shipment by an independent inspection team of highly experienced inspectors. At least three inspectors has agreed on the fruit quality and these indicators are believed to have absolute accuracy. \n",
    "4. **smell_sensor:** are the indicators emitted by the smell fruit inspection sensor; 0 = bad, 1 = good.\n",
    "5. **visual_sensor:** are the indicators emitted by the visual fruit inspection sensor; 0 = bad, 1 = good.\n",
    "6. **inspector:** are the indicators determined by the single entry-level fruit inspectors; 0 = bad, 1 = good.\n",
    "7. **accepted:** indicates if the customer accepted the order as received, or complained and requested an adjustment; 0 = not accepted, 1 = accepted. "
   ]
  },
  {
   "cell_type": "markdown",
   "metadata": {},
   "source": [
    "### Bayesian Graph Representation\n",
    "\n",
    "A directed acyclic graph (DAG) representing the fruit quality process is shown in the diagram below.  \n",
    "\n",
    "<img src=\"FruitQualityGraph.JPG\" alt=\"Drawing\" style=\"width:800px; height:450px\"/>\n",
    "<center> **DAG fruit quality process**    \n",
    "Decision nodes are not shown for simplicity</center>\n",
    "\n",
    "The representation shown in the diagram illustrates the CDPs in a DAG. There are a number of utility nodes shown. Notice, that the multiple decision nodes are not shown.   \n",
    "\n",
    "There are two utility functions in this problem. The **utility of a human inspection** is -10.0. And the **utility of the satisfied and unsatisfied customers** is:\n",
    "\n",
    "|  | Satisfied | Not Satisfied |\n",
    "|----|----|----|\n",
    "|Utility | 20 | -40 |\n",
    "\n",
    "Notice that the DAG shows causality between the CDPs. **Consider how this causality is important in the representation of this problem**. "
   ]
  },
  {
   "cell_type": "markdown",
   "metadata": {},
   "source": [
    "### Goals for this analysis\n",
    "\n",
    "Your goals in this challenge are as follows:\n",
    "\n",
    "1. Estimate the parameters of the leaf CDPs (nodes) using the data provided. These are the unconditional distributions nodes of the graph. You may use simple ML/frequentist estimates of these parameters.   \n",
    "2. Compute the conditional probabilities for the remaining nodes. \n",
    "3. Using the conditional probability distributions and the utility functions, compute and compare the utilities of the four possible inspection methods:\n",
    "  - No inspection whatsoever. \n",
    "  - Inspection by human inspectors only.\n",
    "  - Inspection with sensors only.\n",
    "  - Inspection first with sensors and then with humans for cases where the sensors indicate the fruit may be bad. \n",
    "4. Now perform a query on your model when the weather is always dry (evidence). Recompute and compare the utilities for the different inspection methods as you did for step 3. \n",
    "\n",
    "> **Methods:** You may use methods of your choice. You can do the calculations directly on the arrays of the CPDs. Alternatively, you can likely use the pgmpy package. If you are ambitious, you can try both approaches. "
   ]
  },
  {
   "cell_type": "markdown",
   "metadata": {},
   "source": [
    "# Introduction  & approach taken"
   ]
  },
  {
   "cell_type": "markdown",
   "metadata": {},
   "source": [
    "* We started the challenge by exploring a number of different methods and tools to produce the desired results:\n",
    "* We explored the use of pgmpy and defining elements of the graph using TabularCPD's\n",
    "* As part of our pgmpy we explored using an mle fit approach and an approach using diriclet priors \n",
    "* Ultimately due to time we decided we would adopt an approach using pandas an numpy to calculate the cpd's manually as we needed to be able to carefully understand the step by step calcuations occuring\n",
    "* The fact that pgmpy does not support utilities also factored into our decision\n",
    "* We took the approach of carefully working out each calculation by first understanding the shape of the matrix at each point which helped us understand the output at each subsequent node after the matrix multiplication.\n"
   ]
  },
  {
   "cell_type": "code",
   "execution_count": 206,
   "metadata": {
    "collapsed": false
   },
   "outputs": [
    {
     "data": {
      "text/html": [
       "<div>\n",
       "<style scoped>\n",
       "    .dataframe tbody tr th:only-of-type {\n",
       "        vertical-align: middle;\n",
       "    }\n",
       "\n",
       "    .dataframe tbody tr th {\n",
       "        vertical-align: top;\n",
       "    }\n",
       "\n",
       "    .dataframe thead th {\n",
       "        text-align: right;\n",
       "    }\n",
       "</style>\n",
       "<table border=\"1\" class=\"dataframe\">\n",
       "  <thead>\n",
       "    <tr style=\"text-align: right;\">\n",
       "      <th></th>\n",
       "      <th>weather</th>\n",
       "      <th>week</th>\n",
       "      <th>good_bad</th>\n",
       "      <th>smell_sensor</th>\n",
       "      <th>visual_sensor</th>\n",
       "      <th>inspector</th>\n",
       "      <th>accepted</th>\n",
       "      <th>fruit_quality</th>\n",
       "      <th>sensor_inspect</th>\n",
       "      <th>inspector_accuracy</th>\n",
       "      <th>manual_inspection</th>\n",
       "      <th>manual_inspection_accept</th>\n",
       "      <th>no_inspection_accept</th>\n",
       "      <th>sensor_impact_accept</th>\n",
       "      <th>sensor_manual_inspect</th>\n",
       "      <th>sensor_manual_inspect_accept</th>\n",
       "    </tr>\n",
       "  </thead>\n",
       "  <tbody>\n",
       "    <tr>\n",
       "      <th>0</th>\n",
       "      <td>1</td>\n",
       "      <td>1</td>\n",
       "      <td>1</td>\n",
       "      <td>1</td>\n",
       "      <td>1</td>\n",
       "      <td>1</td>\n",
       "      <td>1</td>\n",
       "      <td>1</td>\n",
       "      <td>1</td>\n",
       "      <td>1</td>\n",
       "      <td>0</td>\n",
       "      <td>0</td>\n",
       "      <td>1</td>\n",
       "      <td>1</td>\n",
       "      <td>0</td>\n",
       "      <td>0</td>\n",
       "    </tr>\n",
       "    <tr>\n",
       "      <th>1</th>\n",
       "      <td>1</td>\n",
       "      <td>0</td>\n",
       "      <td>1</td>\n",
       "      <td>1</td>\n",
       "      <td>0</td>\n",
       "      <td>1</td>\n",
       "      <td>1</td>\n",
       "      <td>0</td>\n",
       "      <td>0</td>\n",
       "      <td>1</td>\n",
       "      <td>1</td>\n",
       "      <td>1</td>\n",
       "      <td>0</td>\n",
       "      <td>0</td>\n",
       "      <td>0</td>\n",
       "      <td>0</td>\n",
       "    </tr>\n",
       "    <tr>\n",
       "      <th>2</th>\n",
       "      <td>1</td>\n",
       "      <td>0</td>\n",
       "      <td>1</td>\n",
       "      <td>1</td>\n",
       "      <td>0</td>\n",
       "      <td>1</td>\n",
       "      <td>1</td>\n",
       "      <td>0</td>\n",
       "      <td>0</td>\n",
       "      <td>1</td>\n",
       "      <td>1</td>\n",
       "      <td>1</td>\n",
       "      <td>0</td>\n",
       "      <td>0</td>\n",
       "      <td>0</td>\n",
       "      <td>0</td>\n",
       "    </tr>\n",
       "    <tr>\n",
       "      <th>3</th>\n",
       "      <td>0</td>\n",
       "      <td>1</td>\n",
       "      <td>0</td>\n",
       "      <td>1</td>\n",
       "      <td>0</td>\n",
       "      <td>0</td>\n",
       "      <td>0</td>\n",
       "      <td>0</td>\n",
       "      <td>0</td>\n",
       "      <td>1</td>\n",
       "      <td>1</td>\n",
       "      <td>1</td>\n",
       "      <td>0</td>\n",
       "      <td>0</td>\n",
       "      <td>0</td>\n",
       "      <td>0</td>\n",
       "    </tr>\n",
       "    <tr>\n",
       "      <th>4</th>\n",
       "      <td>1</td>\n",
       "      <td>0</td>\n",
       "      <td>1</td>\n",
       "      <td>1</td>\n",
       "      <td>1</td>\n",
       "      <td>1</td>\n",
       "      <td>1</td>\n",
       "      <td>0</td>\n",
       "      <td>0</td>\n",
       "      <td>1</td>\n",
       "      <td>1</td>\n",
       "      <td>1</td>\n",
       "      <td>0</td>\n",
       "      <td>0</td>\n",
       "      <td>0</td>\n",
       "      <td>0</td>\n",
       "    </tr>\n",
       "    <tr>\n",
       "      <th>5</th>\n",
       "      <td>1</td>\n",
       "      <td>0</td>\n",
       "      <td>1</td>\n",
       "      <td>1</td>\n",
       "      <td>1</td>\n",
       "      <td>1</td>\n",
       "      <td>1</td>\n",
       "      <td>0</td>\n",
       "      <td>0</td>\n",
       "      <td>1</td>\n",
       "      <td>1</td>\n",
       "      <td>1</td>\n",
       "      <td>0</td>\n",
       "      <td>0</td>\n",
       "      <td>0</td>\n",
       "      <td>0</td>\n",
       "    </tr>\n",
       "    <tr>\n",
       "      <th>6</th>\n",
       "      <td>1</td>\n",
       "      <td>0</td>\n",
       "      <td>1</td>\n",
       "      <td>1</td>\n",
       "      <td>0</td>\n",
       "      <td>1</td>\n",
       "      <td>1</td>\n",
       "      <td>0</td>\n",
       "      <td>0</td>\n",
       "      <td>1</td>\n",
       "      <td>1</td>\n",
       "      <td>1</td>\n",
       "      <td>0</td>\n",
       "      <td>0</td>\n",
       "      <td>0</td>\n",
       "      <td>0</td>\n",
       "    </tr>\n",
       "    <tr>\n",
       "      <th>7</th>\n",
       "      <td>1</td>\n",
       "      <td>1</td>\n",
       "      <td>1</td>\n",
       "      <td>1</td>\n",
       "      <td>1</td>\n",
       "      <td>1</td>\n",
       "      <td>1</td>\n",
       "      <td>1</td>\n",
       "      <td>1</td>\n",
       "      <td>1</td>\n",
       "      <td>0</td>\n",
       "      <td>0</td>\n",
       "      <td>1</td>\n",
       "      <td>1</td>\n",
       "      <td>0</td>\n",
       "      <td>0</td>\n",
       "    </tr>\n",
       "    <tr>\n",
       "      <th>8</th>\n",
       "      <td>0</td>\n",
       "      <td>1</td>\n",
       "      <td>0</td>\n",
       "      <td>1</td>\n",
       "      <td>0</td>\n",
       "      <td>0</td>\n",
       "      <td>0</td>\n",
       "      <td>0</td>\n",
       "      <td>0</td>\n",
       "      <td>1</td>\n",
       "      <td>1</td>\n",
       "      <td>1</td>\n",
       "      <td>0</td>\n",
       "      <td>0</td>\n",
       "      <td>0</td>\n",
       "      <td>0</td>\n",
       "    </tr>\n",
       "    <tr>\n",
       "      <th>9</th>\n",
       "      <td>1</td>\n",
       "      <td>0</td>\n",
       "      <td>1</td>\n",
       "      <td>1</td>\n",
       "      <td>1</td>\n",
       "      <td>1</td>\n",
       "      <td>1</td>\n",
       "      <td>0</td>\n",
       "      <td>0</td>\n",
       "      <td>1</td>\n",
       "      <td>1</td>\n",
       "      <td>1</td>\n",
       "      <td>0</td>\n",
       "      <td>0</td>\n",
       "      <td>0</td>\n",
       "      <td>0</td>\n",
       "    </tr>\n",
       "    <tr>\n",
       "      <th>10</th>\n",
       "      <td>0</td>\n",
       "      <td>0</td>\n",
       "      <td>1</td>\n",
       "      <td>1</td>\n",
       "      <td>1</td>\n",
       "      <td>1</td>\n",
       "      <td>1</td>\n",
       "      <td>0</td>\n",
       "      <td>0</td>\n",
       "      <td>1</td>\n",
       "      <td>1</td>\n",
       "      <td>1</td>\n",
       "      <td>0</td>\n",
       "      <td>0</td>\n",
       "      <td>0</td>\n",
       "      <td>0</td>\n",
       "    </tr>\n",
       "    <tr>\n",
       "      <th>11</th>\n",
       "      <td>0</td>\n",
       "      <td>0</td>\n",
       "      <td>1</td>\n",
       "      <td>1</td>\n",
       "      <td>1</td>\n",
       "      <td>1</td>\n",
       "      <td>1</td>\n",
       "      <td>0</td>\n",
       "      <td>0</td>\n",
       "      <td>1</td>\n",
       "      <td>1</td>\n",
       "      <td>1</td>\n",
       "      <td>0</td>\n",
       "      <td>0</td>\n",
       "      <td>0</td>\n",
       "      <td>0</td>\n",
       "    </tr>\n",
       "    <tr>\n",
       "      <th>12</th>\n",
       "      <td>0</td>\n",
       "      <td>0</td>\n",
       "      <td>1</td>\n",
       "      <td>1</td>\n",
       "      <td>1</td>\n",
       "      <td>1</td>\n",
       "      <td>1</td>\n",
       "      <td>0</td>\n",
       "      <td>0</td>\n",
       "      <td>1</td>\n",
       "      <td>1</td>\n",
       "      <td>1</td>\n",
       "      <td>0</td>\n",
       "      <td>0</td>\n",
       "      <td>0</td>\n",
       "      <td>0</td>\n",
       "    </tr>\n",
       "    <tr>\n",
       "      <th>13</th>\n",
       "      <td>1</td>\n",
       "      <td>0</td>\n",
       "      <td>1</td>\n",
       "      <td>1</td>\n",
       "      <td>1</td>\n",
       "      <td>1</td>\n",
       "      <td>1</td>\n",
       "      <td>0</td>\n",
       "      <td>0</td>\n",
       "      <td>1</td>\n",
       "      <td>1</td>\n",
       "      <td>1</td>\n",
       "      <td>0</td>\n",
       "      <td>0</td>\n",
       "      <td>0</td>\n",
       "      <td>0</td>\n",
       "    </tr>\n",
       "    <tr>\n",
       "      <th>14</th>\n",
       "      <td>1</td>\n",
       "      <td>1</td>\n",
       "      <td>1</td>\n",
       "      <td>1</td>\n",
       "      <td>1</td>\n",
       "      <td>1</td>\n",
       "      <td>1</td>\n",
       "      <td>1</td>\n",
       "      <td>1</td>\n",
       "      <td>1</td>\n",
       "      <td>0</td>\n",
       "      <td>0</td>\n",
       "      <td>1</td>\n",
       "      <td>1</td>\n",
       "      <td>0</td>\n",
       "      <td>0</td>\n",
       "    </tr>\n",
       "    <tr>\n",
       "      <th>15</th>\n",
       "      <td>1</td>\n",
       "      <td>0</td>\n",
       "      <td>1</td>\n",
       "      <td>1</td>\n",
       "      <td>0</td>\n",
       "      <td>1</td>\n",
       "      <td>1</td>\n",
       "      <td>0</td>\n",
       "      <td>0</td>\n",
       "      <td>1</td>\n",
       "      <td>1</td>\n",
       "      <td>1</td>\n",
       "      <td>0</td>\n",
       "      <td>0</td>\n",
       "      <td>0</td>\n",
       "      <td>0</td>\n",
       "    </tr>\n",
       "    <tr>\n",
       "      <th>16</th>\n",
       "      <td>0</td>\n",
       "      <td>1</td>\n",
       "      <td>0</td>\n",
       "      <td>1</td>\n",
       "      <td>0</td>\n",
       "      <td>0</td>\n",
       "      <td>0</td>\n",
       "      <td>0</td>\n",
       "      <td>0</td>\n",
       "      <td>1</td>\n",
       "      <td>1</td>\n",
       "      <td>1</td>\n",
       "      <td>0</td>\n",
       "      <td>0</td>\n",
       "      <td>0</td>\n",
       "      <td>0</td>\n",
       "    </tr>\n",
       "    <tr>\n",
       "      <th>17</th>\n",
       "      <td>0</td>\n",
       "      <td>1</td>\n",
       "      <td>0</td>\n",
       "      <td>1</td>\n",
       "      <td>0</td>\n",
       "      <td>0</td>\n",
       "      <td>0</td>\n",
       "      <td>0</td>\n",
       "      <td>0</td>\n",
       "      <td>1</td>\n",
       "      <td>1</td>\n",
       "      <td>1</td>\n",
       "      <td>0</td>\n",
       "      <td>0</td>\n",
       "      <td>0</td>\n",
       "      <td>0</td>\n",
       "    </tr>\n",
       "    <tr>\n",
       "      <th>18</th>\n",
       "      <td>1</td>\n",
       "      <td>0</td>\n",
       "      <td>1</td>\n",
       "      <td>0</td>\n",
       "      <td>1</td>\n",
       "      <td>1</td>\n",
       "      <td>1</td>\n",
       "      <td>0</td>\n",
       "      <td>0</td>\n",
       "      <td>1</td>\n",
       "      <td>1</td>\n",
       "      <td>1</td>\n",
       "      <td>0</td>\n",
       "      <td>0</td>\n",
       "      <td>0</td>\n",
       "      <td>0</td>\n",
       "    </tr>\n",
       "    <tr>\n",
       "      <th>19</th>\n",
       "      <td>0</td>\n",
       "      <td>1</td>\n",
       "      <td>1</td>\n",
       "      <td>1</td>\n",
       "      <td>1</td>\n",
       "      <td>1</td>\n",
       "      <td>1</td>\n",
       "      <td>0</td>\n",
       "      <td>0</td>\n",
       "      <td>1</td>\n",
       "      <td>1</td>\n",
       "      <td>1</td>\n",
       "      <td>0</td>\n",
       "      <td>0</td>\n",
       "      <td>0</td>\n",
       "      <td>0</td>\n",
       "    </tr>\n",
       "    <tr>\n",
       "      <th>20</th>\n",
       "      <td>0</td>\n",
       "      <td>1</td>\n",
       "      <td>1</td>\n",
       "      <td>1</td>\n",
       "      <td>0</td>\n",
       "      <td>1</td>\n",
       "      <td>1</td>\n",
       "      <td>0</td>\n",
       "      <td>0</td>\n",
       "      <td>1</td>\n",
       "      <td>1</td>\n",
       "      <td>1</td>\n",
       "      <td>0</td>\n",
       "      <td>0</td>\n",
       "      <td>0</td>\n",
       "      <td>0</td>\n",
       "    </tr>\n",
       "    <tr>\n",
       "      <th>21</th>\n",
       "      <td>1</td>\n",
       "      <td>0</td>\n",
       "      <td>1</td>\n",
       "      <td>1</td>\n",
       "      <td>0</td>\n",
       "      <td>1</td>\n",
       "      <td>1</td>\n",
       "      <td>0</td>\n",
       "      <td>0</td>\n",
       "      <td>1</td>\n",
       "      <td>1</td>\n",
       "      <td>1</td>\n",
       "      <td>0</td>\n",
       "      <td>0</td>\n",
       "      <td>0</td>\n",
       "      <td>0</td>\n",
       "    </tr>\n",
       "    <tr>\n",
       "      <th>22</th>\n",
       "      <td>1</td>\n",
       "      <td>0</td>\n",
       "      <td>1</td>\n",
       "      <td>0</td>\n",
       "      <td>1</td>\n",
       "      <td>1</td>\n",
       "      <td>0</td>\n",
       "      <td>0</td>\n",
       "      <td>0</td>\n",
       "      <td>1</td>\n",
       "      <td>1</td>\n",
       "      <td>1</td>\n",
       "      <td>0</td>\n",
       "      <td>0</td>\n",
       "      <td>0</td>\n",
       "      <td>0</td>\n",
       "    </tr>\n",
       "    <tr>\n",
       "      <th>23</th>\n",
       "      <td>1</td>\n",
       "      <td>1</td>\n",
       "      <td>1</td>\n",
       "      <td>0</td>\n",
       "      <td>1</td>\n",
       "      <td>1</td>\n",
       "      <td>1</td>\n",
       "      <td>1</td>\n",
       "      <td>0</td>\n",
       "      <td>1</td>\n",
       "      <td>0</td>\n",
       "      <td>0</td>\n",
       "      <td>1</td>\n",
       "      <td>0</td>\n",
       "      <td>0</td>\n",
       "      <td>0</td>\n",
       "    </tr>\n",
       "    <tr>\n",
       "      <th>24</th>\n",
       "      <td>1</td>\n",
       "      <td>1</td>\n",
       "      <td>1</td>\n",
       "      <td>0</td>\n",
       "      <td>1</td>\n",
       "      <td>1</td>\n",
       "      <td>1</td>\n",
       "      <td>1</td>\n",
       "      <td>0</td>\n",
       "      <td>1</td>\n",
       "      <td>0</td>\n",
       "      <td>0</td>\n",
       "      <td>1</td>\n",
       "      <td>0</td>\n",
       "      <td>0</td>\n",
       "      <td>0</td>\n",
       "    </tr>\n",
       "    <tr>\n",
       "      <th>25</th>\n",
       "      <td>1</td>\n",
       "      <td>0</td>\n",
       "      <td>0</td>\n",
       "      <td>1</td>\n",
       "      <td>0</td>\n",
       "      <td>0</td>\n",
       "      <td>0</td>\n",
       "      <td>0</td>\n",
       "      <td>0</td>\n",
       "      <td>1</td>\n",
       "      <td>1</td>\n",
       "      <td>1</td>\n",
       "      <td>0</td>\n",
       "      <td>0</td>\n",
       "      <td>0</td>\n",
       "      <td>0</td>\n",
       "    </tr>\n",
       "    <tr>\n",
       "      <th>26</th>\n",
       "      <td>1</td>\n",
       "      <td>0</td>\n",
       "      <td>1</td>\n",
       "      <td>1</td>\n",
       "      <td>1</td>\n",
       "      <td>1</td>\n",
       "      <td>1</td>\n",
       "      <td>0</td>\n",
       "      <td>0</td>\n",
       "      <td>1</td>\n",
       "      <td>1</td>\n",
       "      <td>1</td>\n",
       "      <td>0</td>\n",
       "      <td>0</td>\n",
       "      <td>0</td>\n",
       "      <td>0</td>\n",
       "    </tr>\n",
       "    <tr>\n",
       "      <th>27</th>\n",
       "      <td>1</td>\n",
       "      <td>1</td>\n",
       "      <td>1</td>\n",
       "      <td>1</td>\n",
       "      <td>1</td>\n",
       "      <td>1</td>\n",
       "      <td>1</td>\n",
       "      <td>1</td>\n",
       "      <td>1</td>\n",
       "      <td>1</td>\n",
       "      <td>0</td>\n",
       "      <td>0</td>\n",
       "      <td>1</td>\n",
       "      <td>1</td>\n",
       "      <td>0</td>\n",
       "      <td>0</td>\n",
       "    </tr>\n",
       "    <tr>\n",
       "      <th>28</th>\n",
       "      <td>0</td>\n",
       "      <td>1</td>\n",
       "      <td>1</td>\n",
       "      <td>1</td>\n",
       "      <td>1</td>\n",
       "      <td>1</td>\n",
       "      <td>1</td>\n",
       "      <td>0</td>\n",
       "      <td>0</td>\n",
       "      <td>1</td>\n",
       "      <td>1</td>\n",
       "      <td>1</td>\n",
       "      <td>0</td>\n",
       "      <td>0</td>\n",
       "      <td>0</td>\n",
       "      <td>0</td>\n",
       "    </tr>\n",
       "    <tr>\n",
       "      <th>29</th>\n",
       "      <td>1</td>\n",
       "      <td>1</td>\n",
       "      <td>1</td>\n",
       "      <td>1</td>\n",
       "      <td>1</td>\n",
       "      <td>1</td>\n",
       "      <td>1</td>\n",
       "      <td>1</td>\n",
       "      <td>1</td>\n",
       "      <td>1</td>\n",
       "      <td>0</td>\n",
       "      <td>0</td>\n",
       "      <td>1</td>\n",
       "      <td>1</td>\n",
       "      <td>0</td>\n",
       "      <td>0</td>\n",
       "    </tr>\n",
       "    <tr>\n",
       "      <th>...</th>\n",
       "      <td>...</td>\n",
       "      <td>...</td>\n",
       "      <td>...</td>\n",
       "      <td>...</td>\n",
       "      <td>...</td>\n",
       "      <td>...</td>\n",
       "      <td>...</td>\n",
       "      <td>...</td>\n",
       "      <td>...</td>\n",
       "      <td>...</td>\n",
       "      <td>...</td>\n",
       "      <td>...</td>\n",
       "      <td>...</td>\n",
       "      <td>...</td>\n",
       "      <td>...</td>\n",
       "      <td>...</td>\n",
       "    </tr>\n",
       "    <tr>\n",
       "      <th>970</th>\n",
       "      <td>1</td>\n",
       "      <td>1</td>\n",
       "      <td>1</td>\n",
       "      <td>1</td>\n",
       "      <td>1</td>\n",
       "      <td>1</td>\n",
       "      <td>1</td>\n",
       "      <td>1</td>\n",
       "      <td>1</td>\n",
       "      <td>1</td>\n",
       "      <td>0</td>\n",
       "      <td>0</td>\n",
       "      <td>1</td>\n",
       "      <td>1</td>\n",
       "      <td>0</td>\n",
       "      <td>0</td>\n",
       "    </tr>\n",
       "    <tr>\n",
       "      <th>971</th>\n",
       "      <td>1</td>\n",
       "      <td>0</td>\n",
       "      <td>1</td>\n",
       "      <td>1</td>\n",
       "      <td>1</td>\n",
       "      <td>1</td>\n",
       "      <td>1</td>\n",
       "      <td>0</td>\n",
       "      <td>0</td>\n",
       "      <td>1</td>\n",
       "      <td>1</td>\n",
       "      <td>1</td>\n",
       "      <td>0</td>\n",
       "      <td>0</td>\n",
       "      <td>0</td>\n",
       "      <td>0</td>\n",
       "    </tr>\n",
       "    <tr>\n",
       "      <th>972</th>\n",
       "      <td>0</td>\n",
       "      <td>0</td>\n",
       "      <td>1</td>\n",
       "      <td>0</td>\n",
       "      <td>1</td>\n",
       "      <td>1</td>\n",
       "      <td>1</td>\n",
       "      <td>0</td>\n",
       "      <td>0</td>\n",
       "      <td>1</td>\n",
       "      <td>1</td>\n",
       "      <td>1</td>\n",
       "      <td>0</td>\n",
       "      <td>0</td>\n",
       "      <td>0</td>\n",
       "      <td>0</td>\n",
       "    </tr>\n",
       "    <tr>\n",
       "      <th>973</th>\n",
       "      <td>1</td>\n",
       "      <td>0</td>\n",
       "      <td>1</td>\n",
       "      <td>0</td>\n",
       "      <td>1</td>\n",
       "      <td>1</td>\n",
       "      <td>1</td>\n",
       "      <td>0</td>\n",
       "      <td>0</td>\n",
       "      <td>1</td>\n",
       "      <td>1</td>\n",
       "      <td>1</td>\n",
       "      <td>0</td>\n",
       "      <td>0</td>\n",
       "      <td>0</td>\n",
       "      <td>0</td>\n",
       "    </tr>\n",
       "    <tr>\n",
       "      <th>974</th>\n",
       "      <td>1</td>\n",
       "      <td>0</td>\n",
       "      <td>1</td>\n",
       "      <td>1</td>\n",
       "      <td>1</td>\n",
       "      <td>1</td>\n",
       "      <td>1</td>\n",
       "      <td>0</td>\n",
       "      <td>0</td>\n",
       "      <td>1</td>\n",
       "      <td>1</td>\n",
       "      <td>1</td>\n",
       "      <td>0</td>\n",
       "      <td>0</td>\n",
       "      <td>0</td>\n",
       "      <td>0</td>\n",
       "    </tr>\n",
       "    <tr>\n",
       "      <th>975</th>\n",
       "      <td>1</td>\n",
       "      <td>1</td>\n",
       "      <td>1</td>\n",
       "      <td>1</td>\n",
       "      <td>1</td>\n",
       "      <td>1</td>\n",
       "      <td>1</td>\n",
       "      <td>1</td>\n",
       "      <td>1</td>\n",
       "      <td>1</td>\n",
       "      <td>0</td>\n",
       "      <td>0</td>\n",
       "      <td>1</td>\n",
       "      <td>1</td>\n",
       "      <td>0</td>\n",
       "      <td>0</td>\n",
       "    </tr>\n",
       "    <tr>\n",
       "      <th>976</th>\n",
       "      <td>1</td>\n",
       "      <td>0</td>\n",
       "      <td>1</td>\n",
       "      <td>1</td>\n",
       "      <td>1</td>\n",
       "      <td>1</td>\n",
       "      <td>1</td>\n",
       "      <td>0</td>\n",
       "      <td>0</td>\n",
       "      <td>1</td>\n",
       "      <td>1</td>\n",
       "      <td>1</td>\n",
       "      <td>0</td>\n",
       "      <td>0</td>\n",
       "      <td>0</td>\n",
       "      <td>0</td>\n",
       "    </tr>\n",
       "    <tr>\n",
       "      <th>977</th>\n",
       "      <td>0</td>\n",
       "      <td>0</td>\n",
       "      <td>1</td>\n",
       "      <td>1</td>\n",
       "      <td>1</td>\n",
       "      <td>1</td>\n",
       "      <td>1</td>\n",
       "      <td>0</td>\n",
       "      <td>0</td>\n",
       "      <td>1</td>\n",
       "      <td>1</td>\n",
       "      <td>1</td>\n",
       "      <td>0</td>\n",
       "      <td>0</td>\n",
       "      <td>0</td>\n",
       "      <td>0</td>\n",
       "    </tr>\n",
       "    <tr>\n",
       "      <th>978</th>\n",
       "      <td>1</td>\n",
       "      <td>0</td>\n",
       "      <td>0</td>\n",
       "      <td>0</td>\n",
       "      <td>0</td>\n",
       "      <td>0</td>\n",
       "      <td>0</td>\n",
       "      <td>0</td>\n",
       "      <td>0</td>\n",
       "      <td>1</td>\n",
       "      <td>1</td>\n",
       "      <td>1</td>\n",
       "      <td>0</td>\n",
       "      <td>0</td>\n",
       "      <td>0</td>\n",
       "      <td>0</td>\n",
       "    </tr>\n",
       "    <tr>\n",
       "      <th>979</th>\n",
       "      <td>0</td>\n",
       "      <td>1</td>\n",
       "      <td>1</td>\n",
       "      <td>0</td>\n",
       "      <td>1</td>\n",
       "      <td>1</td>\n",
       "      <td>1</td>\n",
       "      <td>0</td>\n",
       "      <td>0</td>\n",
       "      <td>1</td>\n",
       "      <td>1</td>\n",
       "      <td>1</td>\n",
       "      <td>0</td>\n",
       "      <td>0</td>\n",
       "      <td>0</td>\n",
       "      <td>0</td>\n",
       "    </tr>\n",
       "    <tr>\n",
       "      <th>980</th>\n",
       "      <td>0</td>\n",
       "      <td>0</td>\n",
       "      <td>1</td>\n",
       "      <td>0</td>\n",
       "      <td>0</td>\n",
       "      <td>1</td>\n",
       "      <td>1</td>\n",
       "      <td>0</td>\n",
       "      <td>0</td>\n",
       "      <td>1</td>\n",
       "      <td>1</td>\n",
       "      <td>1</td>\n",
       "      <td>0</td>\n",
       "      <td>0</td>\n",
       "      <td>0</td>\n",
       "      <td>0</td>\n",
       "    </tr>\n",
       "    <tr>\n",
       "      <th>981</th>\n",
       "      <td>1</td>\n",
       "      <td>0</td>\n",
       "      <td>1</td>\n",
       "      <td>1</td>\n",
       "      <td>1</td>\n",
       "      <td>1</td>\n",
       "      <td>1</td>\n",
       "      <td>0</td>\n",
       "      <td>0</td>\n",
       "      <td>1</td>\n",
       "      <td>1</td>\n",
       "      <td>1</td>\n",
       "      <td>0</td>\n",
       "      <td>0</td>\n",
       "      <td>0</td>\n",
       "      <td>0</td>\n",
       "    </tr>\n",
       "    <tr>\n",
       "      <th>982</th>\n",
       "      <td>1</td>\n",
       "      <td>0</td>\n",
       "      <td>1</td>\n",
       "      <td>1</td>\n",
       "      <td>1</td>\n",
       "      <td>1</td>\n",
       "      <td>1</td>\n",
       "      <td>0</td>\n",
       "      <td>0</td>\n",
       "      <td>1</td>\n",
       "      <td>1</td>\n",
       "      <td>1</td>\n",
       "      <td>0</td>\n",
       "      <td>0</td>\n",
       "      <td>0</td>\n",
       "      <td>0</td>\n",
       "    </tr>\n",
       "    <tr>\n",
       "      <th>983</th>\n",
       "      <td>1</td>\n",
       "      <td>1</td>\n",
       "      <td>1</td>\n",
       "      <td>1</td>\n",
       "      <td>1</td>\n",
       "      <td>1</td>\n",
       "      <td>1</td>\n",
       "      <td>1</td>\n",
       "      <td>1</td>\n",
       "      <td>1</td>\n",
       "      <td>0</td>\n",
       "      <td>0</td>\n",
       "      <td>1</td>\n",
       "      <td>1</td>\n",
       "      <td>0</td>\n",
       "      <td>0</td>\n",
       "    </tr>\n",
       "    <tr>\n",
       "      <th>984</th>\n",
       "      <td>0</td>\n",
       "      <td>1</td>\n",
       "      <td>1</td>\n",
       "      <td>1</td>\n",
       "      <td>1</td>\n",
       "      <td>1</td>\n",
       "      <td>1</td>\n",
       "      <td>0</td>\n",
       "      <td>0</td>\n",
       "      <td>1</td>\n",
       "      <td>1</td>\n",
       "      <td>1</td>\n",
       "      <td>0</td>\n",
       "      <td>0</td>\n",
       "      <td>0</td>\n",
       "      <td>0</td>\n",
       "    </tr>\n",
       "    <tr>\n",
       "      <th>985</th>\n",
       "      <td>1</td>\n",
       "      <td>0</td>\n",
       "      <td>1</td>\n",
       "      <td>1</td>\n",
       "      <td>1</td>\n",
       "      <td>1</td>\n",
       "      <td>1</td>\n",
       "      <td>0</td>\n",
       "      <td>0</td>\n",
       "      <td>1</td>\n",
       "      <td>1</td>\n",
       "      <td>1</td>\n",
       "      <td>0</td>\n",
       "      <td>0</td>\n",
       "      <td>0</td>\n",
       "      <td>0</td>\n",
       "    </tr>\n",
       "    <tr>\n",
       "      <th>986</th>\n",
       "      <td>1</td>\n",
       "      <td>0</td>\n",
       "      <td>1</td>\n",
       "      <td>0</td>\n",
       "      <td>1</td>\n",
       "      <td>1</td>\n",
       "      <td>1</td>\n",
       "      <td>0</td>\n",
       "      <td>0</td>\n",
       "      <td>1</td>\n",
       "      <td>1</td>\n",
       "      <td>1</td>\n",
       "      <td>0</td>\n",
       "      <td>0</td>\n",
       "      <td>0</td>\n",
       "      <td>0</td>\n",
       "    </tr>\n",
       "    <tr>\n",
       "      <th>987</th>\n",
       "      <td>0</td>\n",
       "      <td>0</td>\n",
       "      <td>1</td>\n",
       "      <td>1</td>\n",
       "      <td>1</td>\n",
       "      <td>1</td>\n",
       "      <td>1</td>\n",
       "      <td>0</td>\n",
       "      <td>0</td>\n",
       "      <td>1</td>\n",
       "      <td>1</td>\n",
       "      <td>1</td>\n",
       "      <td>0</td>\n",
       "      <td>0</td>\n",
       "      <td>0</td>\n",
       "      <td>0</td>\n",
       "    </tr>\n",
       "    <tr>\n",
       "      <th>988</th>\n",
       "      <td>0</td>\n",
       "      <td>0</td>\n",
       "      <td>1</td>\n",
       "      <td>1</td>\n",
       "      <td>1</td>\n",
       "      <td>1</td>\n",
       "      <td>1</td>\n",
       "      <td>0</td>\n",
       "      <td>0</td>\n",
       "      <td>1</td>\n",
       "      <td>1</td>\n",
       "      <td>1</td>\n",
       "      <td>0</td>\n",
       "      <td>0</td>\n",
       "      <td>0</td>\n",
       "      <td>0</td>\n",
       "    </tr>\n",
       "    <tr>\n",
       "      <th>989</th>\n",
       "      <td>0</td>\n",
       "      <td>1</td>\n",
       "      <td>1</td>\n",
       "      <td>1</td>\n",
       "      <td>1</td>\n",
       "      <td>1</td>\n",
       "      <td>1</td>\n",
       "      <td>0</td>\n",
       "      <td>0</td>\n",
       "      <td>1</td>\n",
       "      <td>1</td>\n",
       "      <td>1</td>\n",
       "      <td>0</td>\n",
       "      <td>0</td>\n",
       "      <td>0</td>\n",
       "      <td>0</td>\n",
       "    </tr>\n",
       "    <tr>\n",
       "      <th>990</th>\n",
       "      <td>1</td>\n",
       "      <td>0</td>\n",
       "      <td>1</td>\n",
       "      <td>1</td>\n",
       "      <td>1</td>\n",
       "      <td>0</td>\n",
       "      <td>1</td>\n",
       "      <td>0</td>\n",
       "      <td>0</td>\n",
       "      <td>0</td>\n",
       "      <td>1</td>\n",
       "      <td>1</td>\n",
       "      <td>0</td>\n",
       "      <td>0</td>\n",
       "      <td>1</td>\n",
       "      <td>1</td>\n",
       "    </tr>\n",
       "    <tr>\n",
       "      <th>991</th>\n",
       "      <td>0</td>\n",
       "      <td>1</td>\n",
       "      <td>1</td>\n",
       "      <td>1</td>\n",
       "      <td>1</td>\n",
       "      <td>1</td>\n",
       "      <td>1</td>\n",
       "      <td>0</td>\n",
       "      <td>0</td>\n",
       "      <td>1</td>\n",
       "      <td>1</td>\n",
       "      <td>1</td>\n",
       "      <td>0</td>\n",
       "      <td>0</td>\n",
       "      <td>0</td>\n",
       "      <td>0</td>\n",
       "    </tr>\n",
       "    <tr>\n",
       "      <th>992</th>\n",
       "      <td>1</td>\n",
       "      <td>0</td>\n",
       "      <td>1</td>\n",
       "      <td>1</td>\n",
       "      <td>0</td>\n",
       "      <td>0</td>\n",
       "      <td>1</td>\n",
       "      <td>0</td>\n",
       "      <td>0</td>\n",
       "      <td>0</td>\n",
       "      <td>1</td>\n",
       "      <td>1</td>\n",
       "      <td>0</td>\n",
       "      <td>0</td>\n",
       "      <td>1</td>\n",
       "      <td>1</td>\n",
       "    </tr>\n",
       "    <tr>\n",
       "      <th>993</th>\n",
       "      <td>0</td>\n",
       "      <td>0</td>\n",
       "      <td>1</td>\n",
       "      <td>0</td>\n",
       "      <td>1</td>\n",
       "      <td>1</td>\n",
       "      <td>1</td>\n",
       "      <td>0</td>\n",
       "      <td>0</td>\n",
       "      <td>1</td>\n",
       "      <td>1</td>\n",
       "      <td>1</td>\n",
       "      <td>0</td>\n",
       "      <td>0</td>\n",
       "      <td>0</td>\n",
       "      <td>0</td>\n",
       "    </tr>\n",
       "    <tr>\n",
       "      <th>994</th>\n",
       "      <td>0</td>\n",
       "      <td>0</td>\n",
       "      <td>1</td>\n",
       "      <td>1</td>\n",
       "      <td>1</td>\n",
       "      <td>1</td>\n",
       "      <td>1</td>\n",
       "      <td>0</td>\n",
       "      <td>0</td>\n",
       "      <td>1</td>\n",
       "      <td>1</td>\n",
       "      <td>1</td>\n",
       "      <td>0</td>\n",
       "      <td>0</td>\n",
       "      <td>0</td>\n",
       "      <td>0</td>\n",
       "    </tr>\n",
       "    <tr>\n",
       "      <th>995</th>\n",
       "      <td>0</td>\n",
       "      <td>1</td>\n",
       "      <td>1</td>\n",
       "      <td>1</td>\n",
       "      <td>1</td>\n",
       "      <td>1</td>\n",
       "      <td>1</td>\n",
       "      <td>0</td>\n",
       "      <td>0</td>\n",
       "      <td>1</td>\n",
       "      <td>1</td>\n",
       "      <td>1</td>\n",
       "      <td>0</td>\n",
       "      <td>0</td>\n",
       "      <td>0</td>\n",
       "      <td>0</td>\n",
       "    </tr>\n",
       "    <tr>\n",
       "      <th>996</th>\n",
       "      <td>1</td>\n",
       "      <td>1</td>\n",
       "      <td>1</td>\n",
       "      <td>1</td>\n",
       "      <td>1</td>\n",
       "      <td>1</td>\n",
       "      <td>1</td>\n",
       "      <td>1</td>\n",
       "      <td>1</td>\n",
       "      <td>1</td>\n",
       "      <td>0</td>\n",
       "      <td>0</td>\n",
       "      <td>1</td>\n",
       "      <td>1</td>\n",
       "      <td>0</td>\n",
       "      <td>0</td>\n",
       "    </tr>\n",
       "    <tr>\n",
       "      <th>997</th>\n",
       "      <td>1</td>\n",
       "      <td>0</td>\n",
       "      <td>1</td>\n",
       "      <td>1</td>\n",
       "      <td>1</td>\n",
       "      <td>1</td>\n",
       "      <td>1</td>\n",
       "      <td>0</td>\n",
       "      <td>0</td>\n",
       "      <td>1</td>\n",
       "      <td>1</td>\n",
       "      <td>1</td>\n",
       "      <td>0</td>\n",
       "      <td>0</td>\n",
       "      <td>0</td>\n",
       "      <td>0</td>\n",
       "    </tr>\n",
       "    <tr>\n",
       "      <th>998</th>\n",
       "      <td>1</td>\n",
       "      <td>0</td>\n",
       "      <td>1</td>\n",
       "      <td>0</td>\n",
       "      <td>1</td>\n",
       "      <td>1</td>\n",
       "      <td>1</td>\n",
       "      <td>0</td>\n",
       "      <td>0</td>\n",
       "      <td>1</td>\n",
       "      <td>1</td>\n",
       "      <td>1</td>\n",
       "      <td>0</td>\n",
       "      <td>0</td>\n",
       "      <td>0</td>\n",
       "      <td>0</td>\n",
       "    </tr>\n",
       "    <tr>\n",
       "      <th>999</th>\n",
       "      <td>0</td>\n",
       "      <td>0</td>\n",
       "      <td>1</td>\n",
       "      <td>0</td>\n",
       "      <td>1</td>\n",
       "      <td>1</td>\n",
       "      <td>1</td>\n",
       "      <td>0</td>\n",
       "      <td>0</td>\n",
       "      <td>1</td>\n",
       "      <td>1</td>\n",
       "      <td>1</td>\n",
       "      <td>0</td>\n",
       "      <td>0</td>\n",
       "      <td>0</td>\n",
       "      <td>0</td>\n",
       "    </tr>\n",
       "  </tbody>\n",
       "</table>\n",
       "<p>1000 rows × 16 columns</p>\n",
       "</div>"
      ],
      "text/plain": [
       "     weather  week  good_bad  smell_sensor  visual_sensor  inspector  \\\n",
       "0          1     1         1             1              1          1   \n",
       "1          1     0         1             1              0          1   \n",
       "2          1     0         1             1              0          1   \n",
       "3          0     1         0             1              0          0   \n",
       "4          1     0         1             1              1          1   \n",
       "5          1     0         1             1              1          1   \n",
       "6          1     0         1             1              0          1   \n",
       "7          1     1         1             1              1          1   \n",
       "8          0     1         0             1              0          0   \n",
       "9          1     0         1             1              1          1   \n",
       "10         0     0         1             1              1          1   \n",
       "11         0     0         1             1              1          1   \n",
       "12         0     0         1             1              1          1   \n",
       "13         1     0         1             1              1          1   \n",
       "14         1     1         1             1              1          1   \n",
       "15         1     0         1             1              0          1   \n",
       "16         0     1         0             1              0          0   \n",
       "17         0     1         0             1              0          0   \n",
       "18         1     0         1             0              1          1   \n",
       "19         0     1         1             1              1          1   \n",
       "20         0     1         1             1              0          1   \n",
       "21         1     0         1             1              0          1   \n",
       "22         1     0         1             0              1          1   \n",
       "23         1     1         1             0              1          1   \n",
       "24         1     1         1             0              1          1   \n",
       "25         1     0         0             1              0          0   \n",
       "26         1     0         1             1              1          1   \n",
       "27         1     1         1             1              1          1   \n",
       "28         0     1         1             1              1          1   \n",
       "29         1     1         1             1              1          1   \n",
       "..       ...   ...       ...           ...            ...        ...   \n",
       "970        1     1         1             1              1          1   \n",
       "971        1     0         1             1              1          1   \n",
       "972        0     0         1             0              1          1   \n",
       "973        1     0         1             0              1          1   \n",
       "974        1     0         1             1              1          1   \n",
       "975        1     1         1             1              1          1   \n",
       "976        1     0         1             1              1          1   \n",
       "977        0     0         1             1              1          1   \n",
       "978        1     0         0             0              0          0   \n",
       "979        0     1         1             0              1          1   \n",
       "980        0     0         1             0              0          1   \n",
       "981        1     0         1             1              1          1   \n",
       "982        1     0         1             1              1          1   \n",
       "983        1     1         1             1              1          1   \n",
       "984        0     1         1             1              1          1   \n",
       "985        1     0         1             1              1          1   \n",
       "986        1     0         1             0              1          1   \n",
       "987        0     0         1             1              1          1   \n",
       "988        0     0         1             1              1          1   \n",
       "989        0     1         1             1              1          1   \n",
       "990        1     0         1             1              1          0   \n",
       "991        0     1         1             1              1          1   \n",
       "992        1     0         1             1              0          0   \n",
       "993        0     0         1             0              1          1   \n",
       "994        0     0         1             1              1          1   \n",
       "995        0     1         1             1              1          1   \n",
       "996        1     1         1             1              1          1   \n",
       "997        1     0         1             1              1          1   \n",
       "998        1     0         1             0              1          1   \n",
       "999        0     0         1             0              1          1   \n",
       "\n",
       "     accepted  fruit_quality  sensor_inspect  inspector_accuracy  \\\n",
       "0           1              1               1                   1   \n",
       "1           1              0               0                   1   \n",
       "2           1              0               0                   1   \n",
       "3           0              0               0                   1   \n",
       "4           1              0               0                   1   \n",
       "5           1              0               0                   1   \n",
       "6           1              0               0                   1   \n",
       "7           1              1               1                   1   \n",
       "8           0              0               0                   1   \n",
       "9           1              0               0                   1   \n",
       "10          1              0               0                   1   \n",
       "11          1              0               0                   1   \n",
       "12          1              0               0                   1   \n",
       "13          1              0               0                   1   \n",
       "14          1              1               1                   1   \n",
       "15          1              0               0                   1   \n",
       "16          0              0               0                   1   \n",
       "17          0              0               0                   1   \n",
       "18          1              0               0                   1   \n",
       "19          1              0               0                   1   \n",
       "20          1              0               0                   1   \n",
       "21          1              0               0                   1   \n",
       "22          0              0               0                   1   \n",
       "23          1              1               0                   1   \n",
       "24          1              1               0                   1   \n",
       "25          0              0               0                   1   \n",
       "26          1              0               0                   1   \n",
       "27          1              1               1                   1   \n",
       "28          1              0               0                   1   \n",
       "29          1              1               1                   1   \n",
       "..        ...            ...             ...                 ...   \n",
       "970         1              1               1                   1   \n",
       "971         1              0               0                   1   \n",
       "972         1              0               0                   1   \n",
       "973         1              0               0                   1   \n",
       "974         1              0               0                   1   \n",
       "975         1              1               1                   1   \n",
       "976         1              0               0                   1   \n",
       "977         1              0               0                   1   \n",
       "978         0              0               0                   1   \n",
       "979         1              0               0                   1   \n",
       "980         1              0               0                   1   \n",
       "981         1              0               0                   1   \n",
       "982         1              0               0                   1   \n",
       "983         1              1               1                   1   \n",
       "984         1              0               0                   1   \n",
       "985         1              0               0                   1   \n",
       "986         1              0               0                   1   \n",
       "987         1              0               0                   1   \n",
       "988         1              0               0                   1   \n",
       "989         1              0               0                   1   \n",
       "990         1              0               0                   0   \n",
       "991         1              0               0                   1   \n",
       "992         1              0               0                   0   \n",
       "993         1              0               0                   1   \n",
       "994         1              0               0                   1   \n",
       "995         1              0               0                   1   \n",
       "996         1              1               1                   1   \n",
       "997         1              0               0                   1   \n",
       "998         1              0               0                   1   \n",
       "999         1              0               0                   1   \n",
       "\n",
       "     manual_inspection  manual_inspection_accept  no_inspection_accept  \\\n",
       "0                    0                         0                     1   \n",
       "1                    1                         1                     0   \n",
       "2                    1                         1                     0   \n",
       "3                    1                         1                     0   \n",
       "4                    1                         1                     0   \n",
       "5                    1                         1                     0   \n",
       "6                    1                         1                     0   \n",
       "7                    0                         0                     1   \n",
       "8                    1                         1                     0   \n",
       "9                    1                         1                     0   \n",
       "10                   1                         1                     0   \n",
       "11                   1                         1                     0   \n",
       "12                   1                         1                     0   \n",
       "13                   1                         1                     0   \n",
       "14                   0                         0                     1   \n",
       "15                   1                         1                     0   \n",
       "16                   1                         1                     0   \n",
       "17                   1                         1                     0   \n",
       "18                   1                         1                     0   \n",
       "19                   1                         1                     0   \n",
       "20                   1                         1                     0   \n",
       "21                   1                         1                     0   \n",
       "22                   1                         1                     0   \n",
       "23                   0                         0                     1   \n",
       "24                   0                         0                     1   \n",
       "25                   1                         1                     0   \n",
       "26                   1                         1                     0   \n",
       "27                   0                         0                     1   \n",
       "28                   1                         1                     0   \n",
       "29                   0                         0                     1   \n",
       "..                 ...                       ...                   ...   \n",
       "970                  0                         0                     1   \n",
       "971                  1                         1                     0   \n",
       "972                  1                         1                     0   \n",
       "973                  1                         1                     0   \n",
       "974                  1                         1                     0   \n",
       "975                  0                         0                     1   \n",
       "976                  1                         1                     0   \n",
       "977                  1                         1                     0   \n",
       "978                  1                         1                     0   \n",
       "979                  1                         1                     0   \n",
       "980                  1                         1                     0   \n",
       "981                  1                         1                     0   \n",
       "982                  1                         1                     0   \n",
       "983                  0                         0                     1   \n",
       "984                  1                         1                     0   \n",
       "985                  1                         1                     0   \n",
       "986                  1                         1                     0   \n",
       "987                  1                         1                     0   \n",
       "988                  1                         1                     0   \n",
       "989                  1                         1                     0   \n",
       "990                  1                         1                     0   \n",
       "991                  1                         1                     0   \n",
       "992                  1                         1                     0   \n",
       "993                  1                         1                     0   \n",
       "994                  1                         1                     0   \n",
       "995                  1                         1                     0   \n",
       "996                  0                         0                     1   \n",
       "997                  1                         1                     0   \n",
       "998                  1                         1                     0   \n",
       "999                  1                         1                     0   \n",
       "\n",
       "     sensor_impact_accept  sensor_manual_inspect  sensor_manual_inspect_accept  \n",
       "0                       1                      0                             0  \n",
       "1                       0                      0                             0  \n",
       "2                       0                      0                             0  \n",
       "3                       0                      0                             0  \n",
       "4                       0                      0                             0  \n",
       "5                       0                      0                             0  \n",
       "6                       0                      0                             0  \n",
       "7                       1                      0                             0  \n",
       "8                       0                      0                             0  \n",
       "9                       0                      0                             0  \n",
       "10                      0                      0                             0  \n",
       "11                      0                      0                             0  \n",
       "12                      0                      0                             0  \n",
       "13                      0                      0                             0  \n",
       "14                      1                      0                             0  \n",
       "15                      0                      0                             0  \n",
       "16                      0                      0                             0  \n",
       "17                      0                      0                             0  \n",
       "18                      0                      0                             0  \n",
       "19                      0                      0                             0  \n",
       "20                      0                      0                             0  \n",
       "21                      0                      0                             0  \n",
       "22                      0                      0                             0  \n",
       "23                      0                      0                             0  \n",
       "24                      0                      0                             0  \n",
       "25                      0                      0                             0  \n",
       "26                      0                      0                             0  \n",
       "27                      1                      0                             0  \n",
       "28                      0                      0                             0  \n",
       "29                      1                      0                             0  \n",
       "..                    ...                    ...                           ...  \n",
       "970                     1                      0                             0  \n",
       "971                     0                      0                             0  \n",
       "972                     0                      0                             0  \n",
       "973                     0                      0                             0  \n",
       "974                     0                      0                             0  \n",
       "975                     1                      0                             0  \n",
       "976                     0                      0                             0  \n",
       "977                     0                      0                             0  \n",
       "978                     0                      0                             0  \n",
       "979                     0                      0                             0  \n",
       "980                     0                      0                             0  \n",
       "981                     0                      0                             0  \n",
       "982                     0                      0                             0  \n",
       "983                     1                      0                             0  \n",
       "984                     0                      0                             0  \n",
       "985                     0                      0                             0  \n",
       "986                     0                      0                             0  \n",
       "987                     0                      0                             0  \n",
       "988                     0                      0                             0  \n",
       "989                     0                      0                             0  \n",
       "990                     0                      1                             1  \n",
       "991                     0                      0                             0  \n",
       "992                     0                      1                             1  \n",
       "993                     0                      0                             0  \n",
       "994                     0                      0                             0  \n",
       "995                     0                      0                             0  \n",
       "996                     1                      0                             0  \n",
       "997                     0                      0                             0  \n",
       "998                     0                      0                             0  \n",
       "999                     0                      0                             0  \n",
       "\n",
       "[1000 rows x 16 columns]"
      ]
     },
     "execution_count": 206,
     "metadata": {},
     "output_type": "execute_result"
    }
   ],
   "source": [
    "import pandas as pd\n",
    "import numpy as np\n",
    "\n",
    "data = pd.read_csv('fruit_data.csv')\n",
    "\n",
    "\n",
    "# calculation of fruit quality\n",
    "data['fruit_quality'] = np.where(((data['weather'] == 1) & (data['week'] == 1 ) & (data['good_bad'] == 1 )), 1, 0)\n",
    "\n",
    "# calculation of sensor_inspect node\n",
    "data['sensor_inspect'] = np.where(((data['smell_sensor'] == 1) & (data['visual_sensor'] == 1 ) & (data['fruit_quality'] == 1 )), 1, 0)\n",
    "\n",
    "# calculation of inspector accuracy\n",
    "data['inspector_accuracy'] = np.where(((data['inspector'] == data['good_bad'] )), 1, 0)\n",
    "\n",
    "# calculation of manual inspection\n",
    "data['manual_inspection'] = np.where(((data['fruit_quality'] == 0 )), 1, 0)\n",
    "\n",
    "# calculation of manual inspection acceptance\n",
    "data['manual_inspection_accept'] = np.where(((data['manual_inspection'] == 1 )), 1, 0)\n",
    "\n",
    "# calculation of no inspection acceptance\n",
    "data['no_inspection_accept'] = np.where(((data['fruit_quality'] == 1) & (data['accepted'] == 1 )), 1, 0)\n",
    "\n",
    "# calculation of sensor impact acceptance\n",
    "data['sensor_impact_accept'] = np.where(((data['sensor_inspect'] == 1) & (data['accepted'] == 1 )), 1, 0)\n",
    "\n",
    "# calculation of sensor manual inspection\n",
    "data['sensor_manual_inspect'] = np.where(((data['sensor_inspect'] == 0) & (data['inspector_accuracy'] == 0 )), 1, 0)\n",
    "\n",
    "# calculation of acceptance after manual inspection\n",
    "data['sensor_manual_inspect_accept'] = np.where(((data['sensor_manual_inspect'] == 1) & (data['accepted'] == 1 )), 1, 0)\n",
    "\n",
    "data"
   ]
  },
  {
   "cell_type": "markdown",
   "metadata": {},
   "source": [
    "# 1. Estimate the parameters of the leaf CDPs (nodes) using the data provided. These are the unconditional distributions nodes of the graph. You may use simple ML/frequentist estimates of these parameters.   "
   ]
  },
  {
   "cell_type": "code",
   "execution_count": 310,
   "metadata": {
    "collapsed": false
   },
   "outputs": [
    {
     "name": "stdout",
     "output_type": "stream",
     "text": [
      "The week leaf node has a postive value of 0.479 and a negative value of 0.521\n",
      "The weather leaf node has a postive value of 0.663 and a negative value of 0.33699999999999997\n",
      "The smell_sensor leaf node has a postive value of 0.68 and a negative value of 0.31999999999999995\n",
      "The visual_sensor leaf node has a postive value of 0.76 and a negative value of 0.24\n",
      "The inspector_accuracy leaf node has a postive value of 0.961 and a negative value of 0.039000000000000035\n"
     ]
    }
   ],
   "source": [
    "# We adopt a frequentist approach here\n",
    "\n",
    "def get_leaf_value(leaf):\n",
    "    return data[leaf].mean()\n",
    "\n",
    "leaf_nodes = ['week', 'weather', 'smell_sensor', 'visual_sensor', 'inspector_accuracy']\n",
    "\n",
    "for leaf in leaf_nodes:\n",
    "    print('The {} leaf node has a postive value of {} and a negative value of {}'.format(leaf, get_leaf_value(leaf), 1-get_leaf_value(leaf)))\n"
   ]
  },
  {
   "cell_type": "markdown",
   "metadata": {},
   "source": [
    "### Customer acceptance node\n",
    " * This was dealth with slightly differently as we were advised by the professor that we should take the good_bad variable into account. Our calculation was therefore:\n",
    " \n"
   ]
  },
  {
   "cell_type": "code",
   "execution_count": 314,
   "metadata": {
    "collapsed": false
   },
   "outputs": [
    {
     "name": "stdout",
     "output_type": "stream",
     "text": [
      "   accept0  accept1\n",
      "0      142       20\n",
      "1       37      801\n"
     ]
    },
    {
     "data": {
      "text/html": [
       "<div>\n",
       "<style scoped>\n",
       "    .dataframe tbody tr th:only-of-type {\n",
       "        vertical-align: middle;\n",
       "    }\n",
       "\n",
       "    .dataframe tbody tr th {\n",
       "        vertical-align: top;\n",
       "    }\n",
       "\n",
       "    .dataframe thead th {\n",
       "        text-align: right;\n",
       "    }\n",
       "</style>\n",
       "<table border=\"1\" class=\"dataframe\">\n",
       "  <thead>\n",
       "    <tr style=\"text-align: right;\">\n",
       "      <th></th>\n",
       "      <th>accept0</th>\n",
       "      <th>accept1</th>\n",
       "    </tr>\n",
       "  </thead>\n",
       "  <tbody>\n",
       "    <tr>\n",
       "      <th>0</th>\n",
       "      <td>0.876543</td>\n",
       "      <td>0.123457</td>\n",
       "    </tr>\n",
       "    <tr>\n",
       "      <th>1</th>\n",
       "      <td>0.044153</td>\n",
       "      <td>0.955847</td>\n",
       "    </tr>\n",
       "  </tbody>\n",
       "</table>\n",
       "</div>"
      ],
      "text/plain": [
       "    accept0   accept1\n",
       "0  0.876543  0.123457\n",
       "1  0.044153  0.955847"
      ]
     },
     "execution_count": 314,
     "metadata": {},
     "output_type": "execute_result"
    }
   ],
   "source": [
    "acccept_good_bad_matrix =  np.array([[142, 20], [37, 801]])\n",
    "acccept_good_bad_matrix = pd.DataFrame(acccept_good_bad_matrix, columns=['accept0', 'accept1'])\n",
    "print(acccept_good_bad_matrix)\n",
    "\n",
    "marginalized_cust_accept = acccept_good_bad_matrix.transpose()/acccept_good_bad_matrix.sum(axis=1)\n",
    "marginalized_cust_accept_trans =marginalized_cust_accept.transpose()\n",
    "marginalized_cust_accept_trans"
   ]
  },
  {
   "cell_type": "markdown",
   "metadata": {},
   "source": [
    "# 2. Compute the conditional probabilities for the remaining nodes. \n"
   ]
  },
  {
   "cell_type": "markdown",
   "metadata": {},
   "source": [
    "### Fruit quality node:\n",
    "We first attemped to calculate this node by taking the probabilities of the week and weather nodes as the graph would suggest but the professor advised that we needed to take into account the good_bad field which results in a marginalized result which was the same as the good_bad distribtion\n"
   ]
  },
  {
   "cell_type": "code",
   "execution_count": 296,
   "metadata": {
    "collapsed": false
   },
   "outputs": [
    {
     "name": "stdout",
     "output_type": "stream",
     "text": [
      "[[ 40  48  47  27]\n",
      " [123 126 311 278]]\n"
     ]
    },
    {
     "data": {
      "text/plain": [
       "0    162\n",
       "1    838\n",
       "dtype: int64"
      ]
     },
     "execution_count": 296,
     "metadata": {},
     "output_type": "execute_result"
    }
   ],
   "source": [
    "week_weather_good_bad_matrix = np.array([[40, 48, 47, 27], [123, 126, 311, 278]])\n",
    "print(week_weather_good_bad_matrix)\n",
    "\n",
    "week_weather_good_bad_matrix = pd.DataFrame(week_weather_good_bad_matrix, columns=['Wk0Weath0', 'Wk1Weath0', 'Wk0Weath1', 'Wk1Weath1'])\n",
    "week_weather_good_bad_matrix.sum(axis=1)"
   ]
  },
  {
   "cell_type": "code",
   "execution_count": 297,
   "metadata": {
    "collapsed": false
   },
   "outputs": [
    {
     "data": {
      "text/html": [
       "<div>\n",
       "<style scoped>\n",
       "    .dataframe tbody tr th:only-of-type {\n",
       "        vertical-align: middle;\n",
       "    }\n",
       "\n",
       "    .dataframe tbody tr th {\n",
       "        vertical-align: top;\n",
       "    }\n",
       "\n",
       "    .dataframe thead th {\n",
       "        text-align: right;\n",
       "    }\n",
       "</style>\n",
       "<table border=\"1\" class=\"dataframe\">\n",
       "  <thead>\n",
       "    <tr style=\"text-align: right;\">\n",
       "      <th></th>\n",
       "      <th>Wk0Weath0</th>\n",
       "      <th>Wk1Weath0</th>\n",
       "      <th>Wk0Weath1</th>\n",
       "      <th>Wk1Weath1</th>\n",
       "    </tr>\n",
       "  </thead>\n",
       "  <tbody>\n",
       "    <tr>\n",
       "      <th>0</th>\n",
       "      <td>40</td>\n",
       "      <td>48</td>\n",
       "      <td>47</td>\n",
       "      <td>27</td>\n",
       "    </tr>\n",
       "    <tr>\n",
       "      <th>1</th>\n",
       "      <td>123</td>\n",
       "      <td>126</td>\n",
       "      <td>311</td>\n",
       "      <td>278</td>\n",
       "    </tr>\n",
       "  </tbody>\n",
       "</table>\n",
       "</div>"
      ],
      "text/plain": [
       "   Wk0Weath0  Wk1Weath0  Wk0Weath1  Wk1Weath1\n",
       "0         40         48         47         27\n",
       "1        123        126        311        278"
      ]
     },
     "execution_count": 297,
     "metadata": {},
     "output_type": "execute_result"
    }
   ],
   "source": [
    "week_weather_good_bad_matrix"
   ]
  },
  {
   "cell_type": "code",
   "execution_count": 298,
   "metadata": {
    "collapsed": false
   },
   "outputs": [
    {
     "data": {
      "text/plain": [
       "array([ 0.162,  0.838])"
      ]
     },
     "execution_count": 298,
     "metadata": {},
     "output_type": "execute_result"
    }
   ],
   "source": [
    "fruit_qual_pcts = np.array(week_weather_good_bad_matrix.sum(axis=1)/week_weather_good_bad_matrix.sum().sum())\n",
    "fruit_qual_pcts"
   ]
  },
  {
   "cell_type": "markdown",
   "metadata": {},
   "source": [
    "### Sensor impact node:\n",
    "\n",
    "The inputs into this node are visual, smell and fruit quality. We combined all three to get the conditional probabilities of the sensor impact node"
   ]
  },
  {
   "cell_type": "code",
   "execution_count": 304,
   "metadata": {
    "collapsed": false
   },
   "outputs": [
    {
     "data": {
      "text/plain": [
       "array([ 0.32,  0.68])"
      ]
     },
     "execution_count": 304,
     "metadata": {},
     "output_type": "execute_result"
    }
   ],
   "source": [
    "smell_sensor = np.array([1-data.smell_sensor.mean(), data.smell_sensor.mean()])\n",
    "smell_sensor"
   ]
  },
  {
   "cell_type": "code",
   "execution_count": 305,
   "metadata": {
    "collapsed": false
   },
   "outputs": [
    {
     "data": {
      "text/plain": [
       "array([ 0.24,  0.76])"
      ]
     },
     "execution_count": 305,
     "metadata": {},
     "output_type": "execute_result"
    }
   ],
   "source": [
    "visual_sensor = np.array([1-data.visual_sensor.mean(), data.visual_sensor.mean()])\n",
    "visual_sensor"
   ]
  },
  {
   "cell_type": "code",
   "execution_count": 307,
   "metadata": {
    "collapsed": false
   },
   "outputs": [
    {
     "data": {
      "text/plain": [
       "array([ 0.0768,  0.5168])"
      ]
     },
     "execution_count": 307,
     "metadata": {},
     "output_type": "execute_result"
    }
   ],
   "source": [
    "visual_and_smell_cpd = (smell_sensor * visual_sensor)\n",
    "visual_and_smell_cpd"
   ]
  },
  {
   "cell_type": "code",
   "execution_count": 308,
   "metadata": {
    "collapsed": false
   },
   "outputs": [
    {
     "data": {
      "text/plain": [
       "array([ 0.162,  0.838])"
      ]
     },
     "execution_count": 308,
     "metadata": {},
     "output_type": "execute_result"
    }
   ],
   "source": [
    "fruit_qual_pcts"
   ]
  },
  {
   "cell_type": "code",
   "execution_count": 309,
   "metadata": {
    "collapsed": false
   },
   "outputs": [
    {
     "data": {
      "text/plain": [
       "array([ 0.0124416,  0.4330784])"
      ]
     },
     "execution_count": 309,
     "metadata": {},
     "output_type": "execute_result"
    }
   ],
   "source": [
    "sensor_inspect = (smell_sensor * visual_sensor) * fruit_qual_pcts\n",
    "sensor_inspect"
   ]
  },
  {
   "cell_type": "markdown",
   "metadata": {},
   "source": [
    "### No inspection, accept order node:\n",
    "\n",
    "#### This is a combination of the fruit quality and the customer acceptance leaf nodes. We combine them below using a dot product"
   ]
  },
  {
   "cell_type": "code",
   "execution_count": 325,
   "metadata": {
    "collapsed": false
   },
   "outputs": [
    {
     "name": "stdout",
     "output_type": "stream",
     "text": [
      "No inspection, accept order node: [ 0.179  0.821]\n"
     ]
    }
   ],
   "source": [
    "joint_prob_qual_accept = np.dot(fruit_qual_pcts, marginalized_cust_accept_trans)\n",
    "print('No inspection, accept order node: {}'.format(joint_prob_qual_accept))"
   ]
  },
  {
   "cell_type": "markdown",
   "metadata": {},
   "source": [
    "### Manual inspect node:\n",
    "\n",
    "#### This is a combination of the inspector accuracy and the fruit quality nodes. We combine them below using a dot product"
   ]
  },
  {
   "cell_type": "code",
   "execution_count": 327,
   "metadata": {
    "collapsed": false
   },
   "outputs": [
    {
     "data": {
      "text/plain": [
       "0.961"
      ]
     },
     "execution_count": 327,
     "metadata": {},
     "output_type": "execute_result"
    }
   ],
   "source": [
    "inspector_accuracy = data.inspector_accuracy.mean()\n",
    "inspector_accuracy"
   ]
  },
  {
   "cell_type": "code",
   "execution_count": 329,
   "metadata": {
    "collapsed": false
   },
   "outputs": [
    {
     "data": {
      "text/plain": [
       "array([ 0.162,  0.838])"
      ]
     },
     "execution_count": 329,
     "metadata": {},
     "output_type": "execute_result"
    }
   ],
   "source": [
    "fruit_qual_pcts"
   ]
  },
  {
   "cell_type": "code",
   "execution_count": 332,
   "metadata": {
    "collapsed": false
   },
   "outputs": [
    {
     "data": {
      "text/plain": [
       "array([ 0.155682,  0.805318])"
      ]
     },
     "execution_count": 332,
     "metadata": {},
     "output_type": "execute_result"
    }
   ],
   "source": [
    "fruit_qual_inspect_accur_dot_prod =np.dot(inspector_accuracy,fruit_qual_pcts)\n",
    "fruit_qual_inspect_accur_dot_prod"
   ]
  },
  {
   "cell_type": "code",
   "execution_count": 335,
   "metadata": {
    "collapsed": false
   },
   "outputs": [
    {
     "data": {
      "text/plain": [
       "array([ 0.162,  0.838])"
      ]
     },
     "execution_count": 335,
     "metadata": {},
     "output_type": "execute_result"
    }
   ],
   "source": [
    "fruit_qual_inspect_accur_dot_prod_marginal = fruit_qual_inspect_accur_dot_prod/fruit_qual_inspect_accur_dot_prod.sum()\n",
    "fruit_qual_inspect_accur_dot_prod_marginal"
   ]
  },
  {
   "cell_type": "markdown",
   "metadata": {},
   "source": [
    "### Manual, accept order node:\n",
    "\n",
    "#### This is a combination of the manual inspect and the customer acceptance leaf nodes. We combine them below using a dot product"
   ]
  },
  {
   "cell_type": "code",
   "execution_count": 336,
   "metadata": {
    "collapsed": false
   },
   "outputs": [
    {
     "data": {
      "text/plain": [
       "array([ 0.162,  0.838])"
      ]
     },
     "execution_count": 336,
     "metadata": {},
     "output_type": "execute_result"
    }
   ],
   "source": [
    "fruit_qual_inspect_accur_dot_prod_marginal"
   ]
  },
  {
   "cell_type": "code",
   "execution_count": 337,
   "metadata": {
    "collapsed": false
   },
   "outputs": [
    {
     "data": {
      "text/html": [
       "<div>\n",
       "<style scoped>\n",
       "    .dataframe tbody tr th:only-of-type {\n",
       "        vertical-align: middle;\n",
       "    }\n",
       "\n",
       "    .dataframe tbody tr th {\n",
       "        vertical-align: top;\n",
       "    }\n",
       "\n",
       "    .dataframe thead th {\n",
       "        text-align: right;\n",
       "    }\n",
       "</style>\n",
       "<table border=\"1\" class=\"dataframe\">\n",
       "  <thead>\n",
       "    <tr style=\"text-align: right;\">\n",
       "      <th></th>\n",
       "      <th>accept0</th>\n",
       "      <th>accept1</th>\n",
       "    </tr>\n",
       "  </thead>\n",
       "  <tbody>\n",
       "    <tr>\n",
       "      <th>0</th>\n",
       "      <td>0.876543</td>\n",
       "      <td>0.123457</td>\n",
       "    </tr>\n",
       "    <tr>\n",
       "      <th>1</th>\n",
       "      <td>0.044153</td>\n",
       "      <td>0.955847</td>\n",
       "    </tr>\n",
       "  </tbody>\n",
       "</table>\n",
       "</div>"
      ],
      "text/plain": [
       "    accept0   accept1\n",
       "0  0.876543  0.123457\n",
       "1  0.044153  0.955847"
      ]
     },
     "execution_count": 337,
     "metadata": {},
     "output_type": "execute_result"
    }
   ],
   "source": [
    "marginalized_cust_accept_trans"
   ]
  },
  {
   "cell_type": "code",
   "execution_count": 341,
   "metadata": {
    "collapsed": false
   },
   "outputs": [
    {
     "data": {
      "text/html": [
       "<div>\n",
       "<style scoped>\n",
       "    .dataframe tbody tr th:only-of-type {\n",
       "        vertical-align: middle;\n",
       "    }\n",
       "\n",
       "    .dataframe tbody tr th {\n",
       "        vertical-align: top;\n",
       "    }\n",
       "\n",
       "    .dataframe thead th {\n",
       "        text-align: right;\n",
       "    }\n",
       "</style>\n",
       "<table border=\"1\" class=\"dataframe\">\n",
       "  <thead>\n",
       "    <tr style=\"text-align: right;\">\n",
       "      <th></th>\n",
       "      <th>accept0</th>\n",
       "      <th>accept1</th>\n",
       "    </tr>\n",
       "  </thead>\n",
       "  <tbody>\n",
       "    <tr>\n",
       "      <th>0</th>\n",
       "      <td>0.142000</td>\n",
       "      <td>0.103457</td>\n",
       "    </tr>\n",
       "    <tr>\n",
       "      <th>1</th>\n",
       "      <td>0.007153</td>\n",
       "      <td>0.801000</td>\n",
       "    </tr>\n",
       "  </tbody>\n",
       "</table>\n",
       "</div>"
      ],
      "text/plain": [
       "    accept0   accept1\n",
       "0  0.142000  0.103457\n",
       "1  0.007153  0.801000"
      ]
     },
     "execution_count": 341,
     "metadata": {},
     "output_type": "execute_result"
    }
   ],
   "source": [
    "marginalized_cust_accept_trans * fruit_qual_inspect_accur_dot_prod_marginal"
   ]
  },
  {
   "cell_type": "code",
   "execution_count": 338,
   "metadata": {
    "collapsed": false
   },
   "outputs": [
    {
     "data": {
      "text/plain": [
       "array([ 0.24545679,  0.80815274])"
      ]
     },
     "execution_count": 338,
     "metadata": {},
     "output_type": "execute_result"
    }
   ],
   "source": [
    "np.dot(marginalized_cust_accept_trans, fruit_qual_inspect_accur_dot_prod_marginal)"
   ]
  },
  {
   "cell_type": "markdown",
   "metadata": {},
   "source": [
    "### Sensor inspect accept order node:\n",
    "\n",
    "#### This is a combination of the manual inspect and the customer acceptance leaf nodes. We combine them below using a dot product"
   ]
  },
  {
   "cell_type": "code",
   "execution_count": 342,
   "metadata": {
    "collapsed": false
   },
   "outputs": [
    {
     "data": {
      "text/html": [
       "<div>\n",
       "<style scoped>\n",
       "    .dataframe tbody tr th:only-of-type {\n",
       "        vertical-align: middle;\n",
       "    }\n",
       "\n",
       "    .dataframe tbody tr th {\n",
       "        vertical-align: top;\n",
       "    }\n",
       "\n",
       "    .dataframe thead th {\n",
       "        text-align: right;\n",
       "    }\n",
       "</style>\n",
       "<table border=\"1\" class=\"dataframe\">\n",
       "  <thead>\n",
       "    <tr style=\"text-align: right;\">\n",
       "      <th></th>\n",
       "      <th>accept0</th>\n",
       "      <th>accept1</th>\n",
       "    </tr>\n",
       "  </thead>\n",
       "  <tbody>\n",
       "    <tr>\n",
       "      <th>0</th>\n",
       "      <td>0.876543</td>\n",
       "      <td>0.123457</td>\n",
       "    </tr>\n",
       "    <tr>\n",
       "      <th>1</th>\n",
       "      <td>0.044153</td>\n",
       "      <td>0.955847</td>\n",
       "    </tr>\n",
       "  </tbody>\n",
       "</table>\n",
       "</div>"
      ],
      "text/plain": [
       "    accept0   accept1\n",
       "0  0.876543  0.123457\n",
       "1  0.044153  0.955847"
      ]
     },
     "execution_count": 342,
     "metadata": {},
     "output_type": "execute_result"
    }
   ],
   "source": [
    "marginalized_cust_accept_trans"
   ]
  },
  {
   "cell_type": "code",
   "execution_count": 343,
   "metadata": {
    "collapsed": false
   },
   "outputs": [
    {
     "data": {
      "text/plain": [
       "array([ 0.0124416,  0.4330784])"
      ]
     },
     "execution_count": 343,
     "metadata": {},
     "output_type": "execute_result"
    }
   ],
   "source": [
    "sensor_inspect"
   ]
  },
  {
   "cell_type": "code",
   "execution_count": 345,
   "metadata": {
    "collapsed": false
   },
   "outputs": [
    {
     "data": {
      "text/plain": [
       "array([ 0.06437207,  0.41450613])"
      ]
     },
     "execution_count": 345,
     "metadata": {},
     "output_type": "execute_result"
    }
   ],
   "source": [
    "sensor_inspect_accept_order_node = np.dot(marginalized_cust_accept_trans, sensor_inspect)\n",
    "sensor_inspect_accept_order_node"
   ]
  },
  {
   "cell_type": "code",
   "execution_count": 353,
   "metadata": {
    "collapsed": false
   },
   "outputs": [
    {
     "data": {
      "text/plain": [
       "array([ 0.13442263,  0.86557737])"
      ]
     },
     "execution_count": 353,
     "metadata": {},
     "output_type": "execute_result"
    }
   ],
   "source": [
    "sensor_inspect_accept_order_node_marginal = sensor_inspect_accept_order_node/sensor_inspect_accept_order_node.sum()\n",
    "sensor_inspect_accept_order_node_marginal"
   ]
  },
  {
   "cell_type": "markdown",
   "metadata": {},
   "source": [
    "### Manual inspect after senor inspect node \n",
    "\n",
    "#### This is a combination of the sensor inspect and the inspector accuracy leaf nodes. We combine them below using a dot product"
   ]
  },
  {
   "cell_type": "code",
   "execution_count": 348,
   "metadata": {
    "collapsed": false
   },
   "outputs": [
    {
     "data": {
      "text/plain": [
       "array([ 0.0124416,  0.4330784])"
      ]
     },
     "execution_count": 348,
     "metadata": {},
     "output_type": "execute_result"
    }
   ],
   "source": [
    "sensor_inspect"
   ]
  },
  {
   "cell_type": "code",
   "execution_count": 349,
   "metadata": {
    "collapsed": false
   },
   "outputs": [
    {
     "data": {
      "text/plain": [
       "0.961"
      ]
     },
     "execution_count": 349,
     "metadata": {},
     "output_type": "execute_result"
    }
   ],
   "source": [
    "inspector_accuracy"
   ]
  },
  {
   "cell_type": "code",
   "execution_count": 350,
   "metadata": {
    "collapsed": false
   },
   "outputs": [
    {
     "data": {
      "text/plain": [
       "array([ 0.01195638,  0.41618834])"
      ]
     },
     "execution_count": 350,
     "metadata": {},
     "output_type": "execute_result"
    }
   ],
   "source": [
    "manual_inspect_after_sensor_inspect_node = np.dot(inspector_accuracy,sensor_inspect)\n",
    "manual_inspect_after_sensor_inspect_node"
   ]
  },
  {
   "cell_type": "code",
   "execution_count": 351,
   "metadata": {
    "collapsed": false
   },
   "outputs": [
    {
     "data": {
      "text/plain": [
       "array([ 0.02792602,  0.97207398])"
      ]
     },
     "execution_count": 351,
     "metadata": {},
     "output_type": "execute_result"
    }
   ],
   "source": [
    "manual_inspect_after_sensor_inspect_node_marginal = manual_inspect_after_sensor_inspect_node/manual_inspect_after_sensor_inspect_node.sum()\n",
    "manual_inspect_after_sensor_inspect_node_marginal"
   ]
  },
  {
   "cell_type": "markdown",
   "metadata": {},
   "source": [
    "### Sensor manual inspect accept order node\n",
    "\n",
    "#### This is a combination of the manual_inspect_after_sensor_inspect_node and the customer acceptance leaf node. We combine them below using a dot product"
   ]
  },
  {
   "cell_type": "code",
   "execution_count": 352,
   "metadata": {
    "collapsed": false
   },
   "outputs": [
    {
     "data": {
      "text/plain": [
       "array([ 0.02792602,  0.97207398])"
      ]
     },
     "execution_count": 352,
     "metadata": {},
     "output_type": "execute_result"
    }
   ],
   "source": [
    "manual_inspect_after_sensor_inspect_node_marginal"
   ]
  },
  {
   "cell_type": "code",
   "execution_count": 354,
   "metadata": {
    "collapsed": false
   },
   "outputs": [
    {
     "data": {
      "text/html": [
       "<div>\n",
       "<style scoped>\n",
       "    .dataframe tbody tr th:only-of-type {\n",
       "        vertical-align: middle;\n",
       "    }\n",
       "\n",
       "    .dataframe tbody tr th {\n",
       "        vertical-align: top;\n",
       "    }\n",
       "\n",
       "    .dataframe thead th {\n",
       "        text-align: right;\n",
       "    }\n",
       "</style>\n",
       "<table border=\"1\" class=\"dataframe\">\n",
       "  <thead>\n",
       "    <tr style=\"text-align: right;\">\n",
       "      <th></th>\n",
       "      <th>accept0</th>\n",
       "      <th>accept1</th>\n",
       "    </tr>\n",
       "  </thead>\n",
       "  <tbody>\n",
       "    <tr>\n",
       "      <th>0</th>\n",
       "      <td>0.876543</td>\n",
       "      <td>0.123457</td>\n",
       "    </tr>\n",
       "    <tr>\n",
       "      <th>1</th>\n",
       "      <td>0.044153</td>\n",
       "      <td>0.955847</td>\n",
       "    </tr>\n",
       "  </tbody>\n",
       "</table>\n",
       "</div>"
      ],
      "text/plain": [
       "    accept0   accept1\n",
       "0  0.876543  0.123457\n",
       "1  0.044153  0.955847"
      ]
     },
     "execution_count": 354,
     "metadata": {},
     "output_type": "execute_result"
    }
   ],
   "source": [
    "marginalized_cust_accept_trans"
   ]
  },
  {
   "cell_type": "code",
   "execution_count": 356,
   "metadata": {
    "collapsed": false
   },
   "outputs": [
    {
     "data": {
      "text/plain": [
       "array([ 0.1444875 ,  0.93038726])"
      ]
     },
     "execution_count": 356,
     "metadata": {},
     "output_type": "execute_result"
    }
   ],
   "source": [
    "sensor_manual_inspect_accept_node = np.dot(marginalized_cust_accept_trans, manual_inspect_after_sensor_inspect_node_marginal)\n",
    "sensor_manual_inspect_accept_node"
   ]
  },
  {
   "cell_type": "code",
   "execution_count": 357,
   "metadata": {
    "collapsed": false
   },
   "outputs": [
    {
     "data": {
      "text/plain": [
       "array([ 0.13442263,  0.86557737])"
      ]
     },
     "execution_count": 357,
     "metadata": {},
     "output_type": "execute_result"
    }
   ],
   "source": [
    "sensor_manual_inspect_accept_node_marginal = sensor_manual_inspect_accept_node/sensor_manual_inspect_accept_node.sum()\n",
    "sensor_manual_inspect_accept_node_marginal"
   ]
  },
  {
   "cell_type": "markdown",
   "metadata": {},
   "source": [
    "# 3. Using the conditional probability distributions and the utility functions, compute and compare the utilities of the four possible inspection methods:\n",
    "  - No inspection whatsoever. \n",
    "  - Inspection by human inspectors only.\n",
    "  - Inspection with sensors only.\n",
    "  - Inspection first with sensors and then with humans for cases where the sensors indicate the fruit may be bad. "
   ]
  },
  {
   "cell_type": "markdown",
   "metadata": {},
   "source": [
    "# U2 --> No inspection whatsoever. \n",
    "\n",
    "Here we take two approachs - one using the dot product of the input nodes and the other by explicitly doing the calculations by hand in order to double check our approach"
   ]
  },
  {
   "cell_type": "markdown",
   "metadata": {},
   "source": [
    "### U2\n"
   ]
  },
  {
   "cell_type": "code",
   "execution_count": 363,
   "metadata": {
    "collapsed": false
   },
   "outputs": [
    {
     "data": {
      "text/plain": [
       "array([ 0.179,  0.821])"
      ]
     },
     "execution_count": 363,
     "metadata": {},
     "output_type": "execute_result"
    }
   ],
   "source": [
    "joint_prob_qual_accept = np.dot(fruit_qual_pcts, marginalized_cust_accept_trans)\n",
    "joint_prob_qual_accept"
   ]
  },
  {
   "cell_type": "code",
   "execution_count": 364,
   "metadata": {
    "collapsed": false
   },
   "outputs": [],
   "source": [
    "utility_no_inspection = [-40, 20]"
   ]
  },
  {
   "cell_type": "code",
   "execution_count": 365,
   "metadata": {
    "collapsed": false
   },
   "outputs": [
    {
     "data": {
      "text/plain": [
       "array([ -7.16,  16.42])"
      ]
     },
     "execution_count": 365,
     "metadata": {},
     "output_type": "execute_result"
    }
   ],
   "source": [
    "(joint_prob_qual_accept * utility_no_inspection)"
   ]
  },
  {
   "cell_type": "code",
   "execution_count": 366,
   "metadata": {
    "collapsed": false
   },
   "outputs": [
    {
     "name": "stdout",
     "output_type": "stream",
     "text": [
      "Utility of no human inspection: 9.259999999999998\n"
     ]
    }
   ],
   "source": [
    "print('Utility of no human inspection: {}'.format((joint_prob_qual_accept * utility_no_inspection).sum()))"
   ]
  },
  {
   "cell_type": "code",
   "execution_count": 367,
   "metadata": {
    "collapsed": false
   },
   "outputs": [
    {
     "name": "stdout",
     "output_type": "stream",
     "text": [
      "16.42\n",
      "-7.160000000000001\n",
      "Utility of no human inspection double check: 9.260000000000002\n"
     ]
    }
   ],
   "source": [
    "CustomerAccep_given_GoodQuality = 801/(801+37)\n",
    "CustomerAccep_given_BadQuality = 20/(20+142)\n",
    "CustomerNonAccep_given_GoodQuality = 37/(801+37)\n",
    "CustomerNonAccep_given_BadQuality = 142/(20+142)\n",
    "bad_quality = 0.162\n",
    "good_quality = 0.838\n",
    "\n",
    "customerAccep_GoodQuality = 20 * (CustomerAccep_given_GoodQuality * good_quality + \\\n",
    "                                 CustomerAccep_given_BadQuality * bad_quality)\n",
    "\n",
    "customerAccep_BadQuality = -40 * (CustomerNonAccep_given_GoodQuality * good_quality + \\\n",
    "                                 CustomerNonAccep_given_BadQuality * bad_quality)\n",
    "\n",
    "\n",
    "print(customerAccep_GoodQuality)\n",
    "print(customerAccep_BadQuality)\n",
    "print('Utility of no human inspection double check: {}'.format(customerAccep_GoodQuality + customerAccep_BadQuality))"
   ]
  },
  {
   "cell_type": "markdown",
   "metadata": {},
   "source": [
    "# U2\n"
   ]
  },
  {
   "cell_type": "code",
   "execution_count": 368,
   "metadata": {
    "collapsed": false
   },
   "outputs": [
    {
     "data": {
      "text/plain": [
       "32.68200000000003"
      ]
     },
     "execution_count": 368,
     "metadata": {},
     "output_type": "execute_result"
    }
   ],
   "source": [
    "good_given_inspector_inaccurate = 838 * (1-inspector_accuracy)\n",
    "good_given_inspector_inaccurate"
   ]
  },
  {
   "cell_type": "code",
   "execution_count": 369,
   "metadata": {
    "collapsed": false
   },
   "outputs": [
    {
     "data": {
      "text/plain": [
       "805.318"
      ]
     },
     "execution_count": 369,
     "metadata": {},
     "output_type": "execute_result"
    }
   ],
   "source": [
    "good_given_inspector_accurate = 838 * inspector_accuracy\n",
    "good_given_inspector_accurate"
   ]
  },
  {
   "cell_type": "code",
   "execution_count": 370,
   "metadata": {
    "collapsed": false
   },
   "outputs": [
    {
     "data": {
      "text/plain": [
       "0.961"
      ]
     },
     "execution_count": 370,
     "metadata": {},
     "output_type": "execute_result"
    }
   ],
   "source": [
    "good_given_inspector_accurate/(good_given_inspector_inaccurate + good_given_inspector_accurate)"
   ]
  },
  {
   "cell_type": "code",
   "execution_count": 371,
   "metadata": {
    "collapsed": false
   },
   "outputs": [
    {
     "data": {
      "text/plain": [
       "array([ 0.162,  0.838])"
      ]
     },
     "execution_count": 371,
     "metadata": {},
     "output_type": "execute_result"
    }
   ],
   "source": [
    "fruit_qual_pcts"
   ]
  },
  {
   "cell_type": "code",
   "execution_count": 274,
   "metadata": {
    "collapsed": false
   },
   "outputs": [
    {
     "data": {
      "text/plain": [
       "array([ 0.155682,  0.805318])"
      ]
     },
     "execution_count": 274,
     "metadata": {},
     "output_type": "execute_result"
    }
   ],
   "source": [
    "prob_given_accuracy = fruit_qual_pcts * inspector_accuracy\n",
    "prob_given_accuracy"
   ]
  },
  {
   "cell_type": "code",
   "execution_count": 276,
   "metadata": {
    "collapsed": false
   },
   "outputs": [
    {
     "data": {
      "text/plain": [
       "array([ 0.162,  0.838])"
      ]
     },
     "execution_count": 276,
     "metadata": {},
     "output_type": "execute_result"
    }
   ],
   "source": [
    "prob_given_accuracy_marginal = prob_given_accuracy/prob_given_accuracy.sum()\n",
    "prob_given_accuracy_marginal"
   ]
  },
  {
   "cell_type": "code",
   "execution_count": 277,
   "metadata": {
    "collapsed": true
   },
   "outputs": [],
   "source": [
    "utility_inspection = [-10]"
   ]
  },
  {
   "cell_type": "code",
   "execution_count": 278,
   "metadata": {
    "collapsed": false
   },
   "outputs": [
    {
     "data": {
      "text/plain": [
       "array([-1.62, -8.38])"
      ]
     },
     "execution_count": 278,
     "metadata": {},
     "output_type": "execute_result"
    }
   ],
   "source": [
    "prob_given_accuracy_marginal * utility_inspection"
   ]
  },
  {
   "cell_type": "code",
   "execution_count": 279,
   "metadata": {
    "collapsed": false
   },
   "outputs": [
    {
     "data": {
      "text/plain": [
       "-9.6099999999999994"
      ]
     },
     "execution_count": 279,
     "metadata": {},
     "output_type": "execute_result"
    }
   ],
   "source": [
    "(prob_given_accuracy * utility_inspection).sum()"
   ]
  },
  {
   "cell_type": "markdown",
   "metadata": {},
   "source": [
    "# U3 Calc --> Inspection by human inspectors only.\n"
   ]
  },
  {
   "cell_type": "code",
   "execution_count": 377,
   "metadata": {
    "collapsed": false
   },
   "outputs": [
    {
     "data": {
      "text/plain": [
       "array([ 0.162,  0.838])"
      ]
     },
     "execution_count": 377,
     "metadata": {},
     "output_type": "execute_result"
    }
   ],
   "source": [
    "prob_given_accuracy_marginal"
   ]
  },
  {
   "cell_type": "code",
   "execution_count": 378,
   "metadata": {
    "collapsed": false
   },
   "outputs": [
    {
     "data": {
      "text/html": [
       "<div>\n",
       "<style scoped>\n",
       "    .dataframe tbody tr th:only-of-type {\n",
       "        vertical-align: middle;\n",
       "    }\n",
       "\n",
       "    .dataframe tbody tr th {\n",
       "        vertical-align: top;\n",
       "    }\n",
       "\n",
       "    .dataframe thead th {\n",
       "        text-align: right;\n",
       "    }\n",
       "</style>\n",
       "<table border=\"1\" class=\"dataframe\">\n",
       "  <thead>\n",
       "    <tr style=\"text-align: right;\">\n",
       "      <th></th>\n",
       "      <th>accept0</th>\n",
       "      <th>accept1</th>\n",
       "    </tr>\n",
       "  </thead>\n",
       "  <tbody>\n",
       "    <tr>\n",
       "      <th>0</th>\n",
       "      <td>0.876543</td>\n",
       "      <td>0.123457</td>\n",
       "    </tr>\n",
       "    <tr>\n",
       "      <th>1</th>\n",
       "      <td>0.044153</td>\n",
       "      <td>0.955847</td>\n",
       "    </tr>\n",
       "  </tbody>\n",
       "</table>\n",
       "</div>"
      ],
      "text/plain": [
       "    accept0   accept1\n",
       "0  0.876543  0.123457\n",
       "1  0.044153  0.955847"
      ]
     },
     "execution_count": 378,
     "metadata": {},
     "output_type": "execute_result"
    }
   ],
   "source": [
    "marginalized_cust_accept_trans"
   ]
  },
  {
   "cell_type": "code",
   "execution_count": 379,
   "metadata": {
    "collapsed": false
   },
   "outputs": [
    {
     "data": {
      "text/html": [
       "<div>\n",
       "<style scoped>\n",
       "    .dataframe tbody tr th:only-of-type {\n",
       "        vertical-align: middle;\n",
       "    }\n",
       "\n",
       "    .dataframe tbody tr th {\n",
       "        vertical-align: top;\n",
       "    }\n",
       "\n",
       "    .dataframe thead th {\n",
       "        text-align: right;\n",
       "    }\n",
       "</style>\n",
       "<table border=\"1\" class=\"dataframe\">\n",
       "  <thead>\n",
       "    <tr style=\"text-align: right;\">\n",
       "      <th></th>\n",
       "      <th>accept0</th>\n",
       "      <th>accept1</th>\n",
       "    </tr>\n",
       "  </thead>\n",
       "  <tbody>\n",
       "    <tr>\n",
       "      <th>0</th>\n",
       "      <td>0.142000</td>\n",
       "      <td>0.103457</td>\n",
       "    </tr>\n",
       "    <tr>\n",
       "      <th>1</th>\n",
       "      <td>0.007153</td>\n",
       "      <td>0.801000</td>\n",
       "    </tr>\n",
       "  </tbody>\n",
       "</table>\n",
       "</div>"
      ],
      "text/plain": [
       "    accept0   accept1\n",
       "0  0.142000  0.103457\n",
       "1  0.007153  0.801000"
      ]
     },
     "execution_count": 379,
     "metadata": {},
     "output_type": "execute_result"
    }
   ],
   "source": [
    "probabilities_of_accepting_updated = prob_given_accuracy_marginal * marginalized_cust_accept_trans\n",
    "probabilities_of_accepting_updated"
   ]
  },
  {
   "cell_type": "code",
   "execution_count": 381,
   "metadata": {
    "collapsed": false
   },
   "outputs": [
    {
     "data": {
      "text/plain": [
       "0    0.232968\n",
       "1    0.767032\n",
       "dtype: float64"
      ]
     },
     "execution_count": 381,
     "metadata": {},
     "output_type": "execute_result"
    }
   ],
   "source": [
    "marginal_probs =  probabilities_of_accepting_updated.sum(axis=1)\n",
    "marginal_probs = marginal_probs/marginal_probs.sum()\n",
    "marginal_probs"
   ]
  },
  {
   "cell_type": "code",
   "execution_count": 384,
   "metadata": {
    "collapsed": false
   },
   "outputs": [
    {
     "data": {
      "text/plain": [
       "array([ 0.24545679,  0.80815274])"
      ]
     },
     "execution_count": 384,
     "metadata": {},
     "output_type": "execute_result"
    }
   ],
   "source": [
    "# Double check\n",
    "np.dot(marginalized_cust_accept_trans, prob_given_accuracy_marginal)"
   ]
  },
  {
   "cell_type": "code",
   "execution_count": 385,
   "metadata": {
    "collapsed": true
   },
   "outputs": [],
   "source": [
    "manual_inspection_utilities = np.array([-50, 10])"
   ]
  },
  {
   "cell_type": "code",
   "execution_count": 386,
   "metadata": {
    "collapsed": false
   },
   "outputs": [
    {
     "data": {
      "text/plain": [
       "0   -11.648376\n",
       "1     7.670325\n",
       "dtype: float64"
      ]
     },
     "execution_count": 386,
     "metadata": {},
     "output_type": "execute_result"
    }
   ],
   "source": [
    "manual_inspection_utilities * marginal_probs"
   ]
  },
  {
   "cell_type": "code",
   "execution_count": 437,
   "metadata": {
    "collapsed": false
   },
   "outputs": [
    {
     "data": {
      "text/plain": [
       "-3.9780506170652661"
      ]
     },
     "execution_count": 437,
     "metadata": {},
     "output_type": "execute_result"
    }
   ],
   "source": [
    "u3_expected_utility = (manual_inspection_utilities * marginal_probs).sum()\n",
    "u3_expected_utility"
   ]
  },
  {
   "cell_type": "code",
   "execution_count": 438,
   "metadata": {
    "collapsed": false,
    "scrolled": true
   },
   "outputs": [
    {
     "name": "stdout",
     "output_type": "stream",
     "text": [
      "Utility of inspection by human inspectors only: -3.978050617065266\n"
     ]
    }
   ],
   "source": [
    "print('Utility of inspection by human inspectors only: {}'.format(u3_expected_utility))"
   ]
  },
  {
   "cell_type": "markdown",
   "metadata": {},
   "source": [
    "# U5 Calc --> Inspection with sensors only.\n"
   ]
  },
  {
   "cell_type": "code",
   "execution_count": 486,
   "metadata": {
    "collapsed": false
   },
   "outputs": [],
   "source": [
    "def calc_u5():\n",
    "    # Node as previously calculated above\n",
    "    print ('sensor_manual_inspect_accept_node: ', sensor_manual_inspect_accept_node)\n",
    "    \n",
    "    utilities = np.array([-40, 20])\n",
    "    print('\\n utilities:', utilities)\n",
    "    \n",
    "    expected_utility_u5 = np.dot(sensor_manual_inspect_accept_node, utilities)\n",
    "    print('\\n expected_utility_u5:', expected_utility_u5)\n",
    "\n",
    "    # double check\n",
    "    print('\\n double check:', (sensor_manual_inspect_accept_node * utilities).sum() )\n",
    "         "
   ]
  },
  {
   "cell_type": "code",
   "execution_count": 487,
   "metadata": {
    "collapsed": false
   },
   "outputs": [
    {
     "name": "stdout",
     "output_type": "stream",
     "text": [
      "sensor_manual_inspect_accept_node:  [ 0.1444875   0.93038726]\n",
      "\n",
      " utilities: [-40  20]\n",
      "\n",
      " expected_utility_u5: 12.8282453096\n",
      "\n",
      " double check: 12.8282453096\n"
     ]
    }
   ],
   "source": [
    "calc_u5()"
   ]
  },
  {
   "cell_type": "markdown",
   "metadata": {},
   "source": [
    "# U4 --> Inspection first with sensors and then with humans for cases where the sensors indicate the fruit may be bad. "
   ]
  },
  {
   "cell_type": "code",
   "execution_count": 482,
   "metadata": {
    "collapsed": false
   },
   "outputs": [],
   "source": [
    "def calc_u4():\n",
    "    # from earlier calculation of node\n",
    "    sensor_inspect_accept_order_node_marginal\n",
    "    print('sensor_inspect_accept_order_node_marginal: ', sensor_inspect_accept_order_node_marginal)\n",
    "    print('probability it will be sent for manual inspection: {}'.format(sensor_inspect_accept_order_node_marginal[0]))\n",
    "    \n",
    "    manual_inspect_node = sensor_inspect_accept_order_node_marginal[0] * inspector_accuracy\n",
    "    print('\\n manual_inspect_node: ', manual_inspect_node)\n",
    "    \n",
    "    manual_inspect_node_marginal = np.array([manual_inspect_node, (1-manual_inspect_node)])\n",
    "    print('\\n manual_inspect_node_marginal: ', manual_inspect_node_marginal)\n",
    "    \n",
    "    print('\\n marginalized_cust_accept_trans', marginalized_cust_accept_trans)\n",
    "    \n",
    "    probabilities_of_cust_accepting_sensor_manual= manual_inspect_node_marginal * marginalized_cust_accept_trans\n",
    "    print('\\n probabilities_of_cust_accepting_sensor_manual:\\n', probabilities_of_cust_accepting_sensor_manual)\n",
    "    \n",
    "    marginal_probs =  probabilities_of_accepting_updated.sum(axis=1)\n",
    "    marginal_probs = marginal_probs/marginal_probs.sum()\n",
    "    print('\\n marginal_probs:', marginal_probs)\n",
    "    \n",
    "    manual_inspection_utilities = np.array([-50, 10])\n",
    "    print('\\n manual_inspection_utilities:', manual_inspection_utilities)\n",
    "    \n",
    "    expected_utility = manual_inspection_utilities * marginal_probs\n",
    "    print('\\n expected_utility:', expected_utility.sum())\n",
    "    \n",
    "    # double check\n",
    "    print('\\n double check expected_utility: ',  np.dot(manual_inspection_utilities, marginal_probs))\n",
    "    \n",
    "    print('Utility of no human inspection: {}'.format(expected_utility.sum()))"
   ]
  },
  {
   "cell_type": "code",
   "execution_count": 483,
   "metadata": {
    "collapsed": false
   },
   "outputs": [
    {
     "name": "stdout",
     "output_type": "stream",
     "text": [
      "sensor_inspect_accept_order_node_marginal:  [ 0.13442263  0.86557737]\n",
      "probability it will be sent for manual inspection: 0.13442263428592138\n",
      "\n",
      " manual_inspect_node:  0.129180151549\n",
      "\n",
      " manual_inspect_node_marginal:  [ 0.12918015  0.87081985]\n",
      "\n",
      " marginalized_cust_accept_trans     accept0   accept1\n",
      "0  0.876543  0.123457\n",
      "1  0.044153  0.955847\n",
      "\n",
      " probabilities_of_cust_accepting_sensor_manual:\n",
      "     accept0   accept1\n",
      "0  0.113232  0.107509\n",
      "1  0.005704  0.832371\n",
      "\n",
      " marginal_probs: 0    0.232968\n",
      "1    0.767032\n",
      "dtype: float64\n",
      "\n",
      " manual_inspection_utilities: [-50  10]\n",
      "\n",
      " expected_utility: -3.97805061707\n",
      "\n",
      " double check expected_utility:  -3.97805061707\n",
      "Utility of no human inspection: -3.978050617065266\n"
     ]
    }
   ],
   "source": [
    "calc_u4()"
   ]
  },
  {
   "cell_type": "markdown",
   "metadata": {},
   "source": [
    "# Summary of utilities:\n"
   ]
  },
  {
   "cell_type": "code",
   "execution_count": 444,
   "metadata": {
    "collapsed": false
   },
   "outputs": [
    {
     "name": "stdout",
     "output_type": "stream",
     "text": [
      "Utility of inspection by human inspectors only: -3.978050617065266\n",
      "Inspection with sensors, then with humans: -3.978050617065266\n",
      "Utility of no human inspection: 9.260000000000002\n",
      "Inspection with sensors only: 12.828245309570148\n"
     ]
    }
   ],
   "source": [
    "print('Utility of inspection by human inspectors only: {}'.format(u3_expected_utility))\n",
    "print('Inspection with sensors, then with humans: {}'.format(expected_utility.sum()))\n",
    "print('Utility of no human inspection: {}'.format(customerAccep_GoodQuality + customerAccep_BadQuality))\n",
    "print('Inspection with sensors only: {}'.format(expected_utility_u5))"
   ]
  },
  {
   "cell_type": "markdown",
   "metadata": {},
   "source": [
    "#  4. Now perform a query on your model when the weather is always dry (evidence). Recompute and compare the utilities for the different inspection methods as you did for step 3. \n"
   ]
  },
  {
   "cell_type": "code",
   "execution_count": 488,
   "metadata": {
    "collapsed": false
   },
   "outputs": [
    {
     "data": {
      "text/html": [
       "<div>\n",
       "<style scoped>\n",
       "    .dataframe tbody tr th:only-of-type {\n",
       "        vertical-align: middle;\n",
       "    }\n",
       "\n",
       "    .dataframe tbody tr th {\n",
       "        vertical-align: top;\n",
       "    }\n",
       "\n",
       "    .dataframe thead th {\n",
       "        text-align: right;\n",
       "    }\n",
       "</style>\n",
       "<table border=\"1\" class=\"dataframe\">\n",
       "  <thead>\n",
       "    <tr style=\"text-align: right;\">\n",
       "      <th></th>\n",
       "      <th>Wk0Weath1</th>\n",
       "      <th>Wk1Weath1</th>\n",
       "    </tr>\n",
       "  </thead>\n",
       "  <tbody>\n",
       "    <tr>\n",
       "      <th>0</th>\n",
       "      <td>47</td>\n",
       "      <td>27</td>\n",
       "    </tr>\n",
       "    <tr>\n",
       "      <th>1</th>\n",
       "      <td>311</td>\n",
       "      <td>278</td>\n",
       "    </tr>\n",
       "  </tbody>\n",
       "</table>\n",
       "</div>"
      ],
      "text/plain": [
       "   Wk0Weath1  Wk1Weath1\n",
       "0         47         27\n",
       "1        311        278"
      ]
     },
     "execution_count": 488,
     "metadata": {},
     "output_type": "execute_result"
    }
   ],
   "source": [
    "\"\"\"We take a subset of the original matrix where the weather \n",
    "is always dry and recompute the marginal probabilities for fruit_quality.\"\"\"\n",
    "\n",
    "week_weather_good_bad_matrix = week_weather_good_bad_matrix[['Wk0Weath1', 'Wk1Weath1']]\n",
    "week_weather_good_bad_matrix"
   ]
  },
  {
   "cell_type": "code",
   "execution_count": null,
   "metadata": {
    "collapsed": true
   },
   "outputs": [],
   "source": []
  },
  {
   "cell_type": "code",
   "execution_count": 544,
   "metadata": {
    "collapsed": false,
    "scrolled": true
   },
   "outputs": [
    {
     "data": {
      "text/plain": [
       "array([ 0.11161388,  0.88838612])"
      ]
     },
     "execution_count": 544,
     "metadata": {},
     "output_type": "execute_result"
    }
   ],
   "source": [
    "fruit_qual_pcts = np.array(week_weather_good_bad_matrix.sum(axis=1)/week_weather_good_bad_matrix.sum().sum())\n",
    "fruit_qual_pcts"
   ]
  },
  {
   "cell_type": "code",
   "execution_count": 545,
   "metadata": {
    "collapsed": false
   },
   "outputs": [
    {
     "data": {
      "text/plain": [
       "array([ 0.32,  0.68])"
      ]
     },
     "execution_count": 545,
     "metadata": {},
     "output_type": "execute_result"
    }
   ],
   "source": [
    "smell_sensor = np.array([1-data.smell_sensor.mean(), data.smell_sensor.mean()])\n",
    "smell_sensor"
   ]
  },
  {
   "cell_type": "code",
   "execution_count": 546,
   "metadata": {
    "collapsed": false
   },
   "outputs": [
    {
     "data": {
      "text/plain": [
       "array([ 0.24,  0.76])"
      ]
     },
     "execution_count": 546,
     "metadata": {},
     "output_type": "execute_result"
    }
   ],
   "source": [
    "visual_sensor = np.array([1-data.visual_sensor.mean(), data.visual_sensor.mean()])\n",
    "visual_sensor"
   ]
  },
  {
   "cell_type": "code",
   "execution_count": 547,
   "metadata": {
    "collapsed": false
   },
   "outputs": [
    {
     "data": {
      "text/plain": [
       "array([ 0.0768,  0.5168])"
      ]
     },
     "execution_count": 547,
     "metadata": {},
     "output_type": "execute_result"
    }
   ],
   "source": [
    "visual_and_smell_cpd = (smell_sensor * visual_sensor)\n",
    "visual_and_smell_cpd"
   ]
  },
  {
   "cell_type": "code",
   "execution_count": 548,
   "metadata": {
    "collapsed": false
   },
   "outputs": [
    {
     "data": {
      "text/plain": [
       "array([ 0.11161388,  0.88838612])"
      ]
     },
     "execution_count": 548,
     "metadata": {},
     "output_type": "execute_result"
    }
   ],
   "source": [
    "fruit_qual_pcts"
   ]
  },
  {
   "cell_type": "code",
   "execution_count": 549,
   "metadata": {
    "collapsed": false
   },
   "outputs": [
    {
     "data": {
      "text/plain": [
       "array([ 0.00857195,  0.45911795])"
      ]
     },
     "execution_count": 549,
     "metadata": {},
     "output_type": "execute_result"
    }
   ],
   "source": [
    "sensor_inspect = (smell_sensor * visual_sensor) * fruit_qual_pcts\n",
    "sensor_inspect"
   ]
  },
  {
   "cell_type": "markdown",
   "metadata": {},
   "source": [
    "### No inspection, accept order node:\n",
    "\n",
    "#### This is a combination of the fruit quality and the customer acceptance leaf nodes. We combine them below using a dot product"
   ]
  },
  {
   "cell_type": "code",
   "execution_count": 550,
   "metadata": {
    "collapsed": false
   },
   "outputs": [
    {
     "name": "stdout",
     "output_type": "stream",
     "text": [
      "No inspection, accept order node: [ 0.13705907  0.86294093]\n"
     ]
    }
   ],
   "source": [
    "joint_prob_qual_accept = np.dot(fruit_qual_pcts, marginalized_cust_accept_trans)\n",
    "print('No inspection, accept order node: {}'.format(joint_prob_qual_accept))"
   ]
  },
  {
   "cell_type": "markdown",
   "metadata": {},
   "source": [
    "### Manual inspect node:\n",
    "\n",
    "#### This is a combination of the inspector accuracy and the fruit quality nodes. We combine them below using a dot product"
   ]
  },
  {
   "cell_type": "code",
   "execution_count": 551,
   "metadata": {
    "collapsed": false
   },
   "outputs": [
    {
     "data": {
      "text/plain": [
       "0.961"
      ]
     },
     "execution_count": 551,
     "metadata": {},
     "output_type": "execute_result"
    }
   ],
   "source": [
    "inspector_accuracy = data.inspector_accuracy.mean()\n",
    "inspector_accuracy"
   ]
  },
  {
   "cell_type": "code",
   "execution_count": 552,
   "metadata": {
    "collapsed": false
   },
   "outputs": [
    {
     "data": {
      "text/plain": [
       "array([ 0.11161388,  0.88838612])"
      ]
     },
     "execution_count": 552,
     "metadata": {},
     "output_type": "execute_result"
    }
   ],
   "source": [
    "fruit_qual_pcts"
   ]
  },
  {
   "cell_type": "code",
   "execution_count": 553,
   "metadata": {
    "collapsed": false
   },
   "outputs": [
    {
     "data": {
      "text/plain": [
       "array([ 0.10726094,  0.85373906])"
      ]
     },
     "execution_count": 553,
     "metadata": {},
     "output_type": "execute_result"
    }
   ],
   "source": [
    "fruit_qual_inspect_accur_dot_prod =np.dot(inspector_accuracy,fruit_qual_pcts)\n",
    "fruit_qual_inspect_accur_dot_prod"
   ]
  },
  {
   "cell_type": "code",
   "execution_count": 554,
   "metadata": {
    "collapsed": false
   },
   "outputs": [
    {
     "data": {
      "text/plain": [
       "array([ 0.11161388,  0.88838612])"
      ]
     },
     "execution_count": 554,
     "metadata": {},
     "output_type": "execute_result"
    }
   ],
   "source": [
    "fruit_qual_inspect_accur_dot_prod_marginal = fruit_qual_inspect_accur_dot_prod/fruit_qual_inspect_accur_dot_prod.sum()\n",
    "fruit_qual_inspect_accur_dot_prod_marginal"
   ]
  },
  {
   "cell_type": "markdown",
   "metadata": {},
   "source": [
    "### Manual, accept order node:\n",
    "\n",
    "#### This is a combination of the manual inspect and the customer acceptance leaf nodes. We combine them below using a dot product"
   ]
  },
  {
   "cell_type": "code",
   "execution_count": 555,
   "metadata": {
    "collapsed": false
   },
   "outputs": [
    {
     "data": {
      "text/plain": [
       "array([ 0.11161388,  0.88838612])"
      ]
     },
     "execution_count": 555,
     "metadata": {},
     "output_type": "execute_result"
    }
   ],
   "source": [
    "fruit_qual_inspect_accur_dot_prod_marginal"
   ]
  },
  {
   "cell_type": "code",
   "execution_count": 556,
   "metadata": {
    "collapsed": false
   },
   "outputs": [
    {
     "data": {
      "text/html": [
       "<div>\n",
       "<style scoped>\n",
       "    .dataframe tbody tr th:only-of-type {\n",
       "        vertical-align: middle;\n",
       "    }\n",
       "\n",
       "    .dataframe tbody tr th {\n",
       "        vertical-align: top;\n",
       "    }\n",
       "\n",
       "    .dataframe thead th {\n",
       "        text-align: right;\n",
       "    }\n",
       "</style>\n",
       "<table border=\"1\" class=\"dataframe\">\n",
       "  <thead>\n",
       "    <tr style=\"text-align: right;\">\n",
       "      <th></th>\n",
       "      <th>accept0</th>\n",
       "      <th>accept1</th>\n",
       "    </tr>\n",
       "  </thead>\n",
       "  <tbody>\n",
       "    <tr>\n",
       "      <th>0</th>\n",
       "      <td>0.876543</td>\n",
       "      <td>0.123457</td>\n",
       "    </tr>\n",
       "    <tr>\n",
       "      <th>1</th>\n",
       "      <td>0.044153</td>\n",
       "      <td>0.955847</td>\n",
       "    </tr>\n",
       "  </tbody>\n",
       "</table>\n",
       "</div>"
      ],
      "text/plain": [
       "    accept0   accept1\n",
       "0  0.876543  0.123457\n",
       "1  0.044153  0.955847"
      ]
     },
     "execution_count": 556,
     "metadata": {},
     "output_type": "execute_result"
    }
   ],
   "source": [
    "marginalized_cust_accept_trans"
   ]
  },
  {
   "cell_type": "code",
   "execution_count": 557,
   "metadata": {
    "collapsed": false
   },
   "outputs": [
    {
     "data": {
      "text/html": [
       "<div>\n",
       "<style scoped>\n",
       "    .dataframe tbody tr th:only-of-type {\n",
       "        vertical-align: middle;\n",
       "    }\n",
       "\n",
       "    .dataframe tbody tr th {\n",
       "        vertical-align: top;\n",
       "    }\n",
       "\n",
       "    .dataframe thead th {\n",
       "        text-align: right;\n",
       "    }\n",
       "</style>\n",
       "<table border=\"1\" class=\"dataframe\">\n",
       "  <thead>\n",
       "    <tr style=\"text-align: right;\">\n",
       "      <th></th>\n",
       "      <th>accept0</th>\n",
       "      <th>accept1</th>\n",
       "    </tr>\n",
       "  </thead>\n",
       "  <tbody>\n",
       "    <tr>\n",
       "      <th>0</th>\n",
       "      <td>0.097834</td>\n",
       "      <td>0.109677</td>\n",
       "    </tr>\n",
       "    <tr>\n",
       "      <th>1</th>\n",
       "      <td>0.004928</td>\n",
       "      <td>0.849161</td>\n",
       "    </tr>\n",
       "  </tbody>\n",
       "</table>\n",
       "</div>"
      ],
      "text/plain": [
       "    accept0   accept1\n",
       "0  0.097834  0.109677\n",
       "1  0.004928  0.849161"
      ]
     },
     "execution_count": 557,
     "metadata": {},
     "output_type": "execute_result"
    }
   ],
   "source": [
    "marginalized_cust_accept_trans * fruit_qual_inspect_accur_dot_prod_marginal"
   ]
  },
  {
   "cell_type": "code",
   "execution_count": 558,
   "metadata": {
    "collapsed": false
   },
   "outputs": [
    {
     "data": {
      "text/plain": [
       "array([ 0.20751168,  0.8540895 ])"
      ]
     },
     "execution_count": 558,
     "metadata": {},
     "output_type": "execute_result"
    }
   ],
   "source": [
    "np.dot(marginalized_cust_accept_trans, fruit_qual_inspect_accur_dot_prod_marginal)"
   ]
  },
  {
   "cell_type": "markdown",
   "metadata": {},
   "source": [
    "### Sensor inspect accept order node:\n",
    "\n",
    "#### This is a combination of the manual inspect and the customer acceptance leaf nodes. We combine them below using a dot product"
   ]
  },
  {
   "cell_type": "code",
   "execution_count": 559,
   "metadata": {
    "collapsed": false
   },
   "outputs": [
    {
     "data": {
      "text/html": [
       "<div>\n",
       "<style scoped>\n",
       "    .dataframe tbody tr th:only-of-type {\n",
       "        vertical-align: middle;\n",
       "    }\n",
       "\n",
       "    .dataframe tbody tr th {\n",
       "        vertical-align: top;\n",
       "    }\n",
       "\n",
       "    .dataframe thead th {\n",
       "        text-align: right;\n",
       "    }\n",
       "</style>\n",
       "<table border=\"1\" class=\"dataframe\">\n",
       "  <thead>\n",
       "    <tr style=\"text-align: right;\">\n",
       "      <th></th>\n",
       "      <th>accept0</th>\n",
       "      <th>accept1</th>\n",
       "    </tr>\n",
       "  </thead>\n",
       "  <tbody>\n",
       "    <tr>\n",
       "      <th>0</th>\n",
       "      <td>0.876543</td>\n",
       "      <td>0.123457</td>\n",
       "    </tr>\n",
       "    <tr>\n",
       "      <th>1</th>\n",
       "      <td>0.044153</td>\n",
       "      <td>0.955847</td>\n",
       "    </tr>\n",
       "  </tbody>\n",
       "</table>\n",
       "</div>"
      ],
      "text/plain": [
       "    accept0   accept1\n",
       "0  0.876543  0.123457\n",
       "1  0.044153  0.955847"
      ]
     },
     "execution_count": 559,
     "metadata": {},
     "output_type": "execute_result"
    }
   ],
   "source": [
    "marginalized_cust_accept_trans"
   ]
  },
  {
   "cell_type": "code",
   "execution_count": 560,
   "metadata": {
    "collapsed": false
   },
   "outputs": [
    {
     "data": {
      "text/plain": [
       "array([ 0.00857195,  0.45911795])"
      ]
     },
     "execution_count": 560,
     "metadata": {},
     "output_type": "execute_result"
    }
   ],
   "source": [
    "sensor_inspect"
   ]
  },
  {
   "cell_type": "code",
   "execution_count": 561,
   "metadata": {
    "collapsed": false
   },
   "outputs": [
    {
     "data": {
      "text/plain": [
       "array([ 0.06419491,  0.43922511])"
      ]
     },
     "execution_count": 561,
     "metadata": {},
     "output_type": "execute_result"
    }
   ],
   "source": [
    "sensor_inspect_accept_order_node = np.dot(marginalized_cust_accept_trans, sensor_inspect)\n",
    "sensor_inspect_accept_order_node"
   ]
  },
  {
   "cell_type": "code",
   "execution_count": 562,
   "metadata": {
    "collapsed": false
   },
   "outputs": [
    {
     "data": {
      "text/plain": [
       "array([ 0.12751759,  0.87248241])"
      ]
     },
     "execution_count": 562,
     "metadata": {},
     "output_type": "execute_result"
    }
   ],
   "source": [
    "sensor_inspect_accept_order_node_marginal = sensor_inspect_accept_order_node/sensor_inspect_accept_order_node.sum()\n",
    "sensor_inspect_accept_order_node_marginal"
   ]
  },
  {
   "cell_type": "markdown",
   "metadata": {},
   "source": [
    "### Manual inspect after senor inspect node \n",
    "\n",
    "#### This is a combination of the sensor inspect and the inspector accuracy leaf nodes. We combine them below using a dot product"
   ]
  },
  {
   "cell_type": "code",
   "execution_count": 563,
   "metadata": {
    "collapsed": false
   },
   "outputs": [
    {
     "data": {
      "text/plain": [
       "array([ 0.00857195,  0.45911795])"
      ]
     },
     "execution_count": 563,
     "metadata": {},
     "output_type": "execute_result"
    }
   ],
   "source": [
    "sensor_inspect"
   ]
  },
  {
   "cell_type": "code",
   "execution_count": 564,
   "metadata": {
    "collapsed": false
   },
   "outputs": [
    {
     "data": {
      "text/plain": [
       "0.961"
      ]
     },
     "execution_count": 564,
     "metadata": {},
     "output_type": "execute_result"
    }
   ],
   "source": [
    "inspector_accuracy"
   ]
  },
  {
   "cell_type": "code",
   "execution_count": 565,
   "metadata": {
    "collapsed": false
   },
   "outputs": [
    {
     "data": {
      "text/plain": [
       "array([ 0.00823764,  0.44121235])"
      ]
     },
     "execution_count": 565,
     "metadata": {},
     "output_type": "execute_result"
    }
   ],
   "source": [
    "manual_inspect_after_sensor_inspect_node = np.dot(inspector_accuracy,sensor_inspect)\n",
    "manual_inspect_after_sensor_inspect_node"
   ]
  },
  {
   "cell_type": "code",
   "execution_count": 566,
   "metadata": {
    "collapsed": false
   },
   "outputs": [
    {
     "data": {
      "text/plain": [
       "array([ 0.01832827,  0.98167173])"
      ]
     },
     "execution_count": 566,
     "metadata": {},
     "output_type": "execute_result"
    }
   ],
   "source": [
    "manual_inspect_after_sensor_inspect_node_marginal = manual_inspect_after_sensor_inspect_node/manual_inspect_after_sensor_inspect_node.sum()\n",
    "manual_inspect_after_sensor_inspect_node_marginal"
   ]
  },
  {
   "cell_type": "markdown",
   "metadata": {},
   "source": [
    "### Sensor manual inspect accept order node\n",
    "\n",
    "#### This is a combination of the manual_inspect_after_sensor_inspect_node and the customer acceptance leaf node. We combine them below using a dot product"
   ]
  },
  {
   "cell_type": "code",
   "execution_count": 567,
   "metadata": {
    "collapsed": false
   },
   "outputs": [
    {
     "data": {
      "text/plain": [
       "array([ 0.01832827,  0.98167173])"
      ]
     },
     "execution_count": 567,
     "metadata": {},
     "output_type": "execute_result"
    }
   ],
   "source": [
    "manual_inspect_after_sensor_inspect_node_marginal"
   ]
  },
  {
   "cell_type": "code",
   "execution_count": 568,
   "metadata": {
    "collapsed": false
   },
   "outputs": [
    {
     "data": {
      "text/html": [
       "<div>\n",
       "<style scoped>\n",
       "    .dataframe tbody tr th:only-of-type {\n",
       "        vertical-align: middle;\n",
       "    }\n",
       "\n",
       "    .dataframe tbody tr th {\n",
       "        vertical-align: top;\n",
       "    }\n",
       "\n",
       "    .dataframe thead th {\n",
       "        text-align: right;\n",
       "    }\n",
       "</style>\n",
       "<table border=\"1\" class=\"dataframe\">\n",
       "  <thead>\n",
       "    <tr style=\"text-align: right;\">\n",
       "      <th></th>\n",
       "      <th>accept0</th>\n",
       "      <th>accept1</th>\n",
       "    </tr>\n",
       "  </thead>\n",
       "  <tbody>\n",
       "    <tr>\n",
       "      <th>0</th>\n",
       "      <td>0.876543</td>\n",
       "      <td>0.123457</td>\n",
       "    </tr>\n",
       "    <tr>\n",
       "      <th>1</th>\n",
       "      <td>0.044153</td>\n",
       "      <td>0.955847</td>\n",
       "    </tr>\n",
       "  </tbody>\n",
       "</table>\n",
       "</div>"
      ],
      "text/plain": [
       "    accept0   accept1\n",
       "0  0.876543  0.123457\n",
       "1  0.044153  0.955847"
      ]
     },
     "execution_count": 568,
     "metadata": {},
     "output_type": "execute_result"
    }
   ],
   "source": [
    "marginalized_cust_accept_trans"
   ]
  },
  {
   "cell_type": "code",
   "execution_count": 569,
   "metadata": {
    "collapsed": false
   },
   "outputs": [
    {
     "data": {
      "text/plain": [
       "array([ 0.13725956,  0.93913747])"
      ]
     },
     "execution_count": 569,
     "metadata": {},
     "output_type": "execute_result"
    }
   ],
   "source": [
    "sensor_manual_inspect_accept_node = np.dot(marginalized_cust_accept_trans, manual_inspect_after_sensor_inspect_node_marginal)\n",
    "sensor_manual_inspect_accept_node"
   ]
  },
  {
   "cell_type": "code",
   "execution_count": 570,
   "metadata": {
    "collapsed": false
   },
   "outputs": [
    {
     "data": {
      "text/plain": [
       "array([ 0.12751759,  0.87248241])"
      ]
     },
     "execution_count": 570,
     "metadata": {},
     "output_type": "execute_result"
    }
   ],
   "source": [
    "sensor_manual_inspect_accept_node_marginal = sensor_manual_inspect_accept_node/sensor_manual_inspect_accept_node.sum()\n",
    "sensor_manual_inspect_accept_node_marginal"
   ]
  },
  {
   "cell_type": "markdown",
   "metadata": {},
   "source": [
    "# 3. Using the conditional probability distributions and the utility functions, compute and compare the utilities of the four possible inspection methods:\n",
    "  - No inspection whatsoever. \n",
    "  - Inspection by human inspectors only.\n",
    "  - Inspection with sensors only.\n",
    "  - Inspection first with sensors and then with humans for cases where the sensors indicate the fruit may be bad. "
   ]
  },
  {
   "cell_type": "markdown",
   "metadata": {},
   "source": [
    "# U2 --> No inspection whatsoever. \n",
    "\n",
    "Here we take two approachs - one using the dot product of the input nodes and the other by explicitly doing the calculations by hand in order to double check our approach"
   ]
  },
  {
   "cell_type": "code",
   "execution_count": 598,
   "metadata": {
    "collapsed": false
   },
   "outputs": [
    {
     "data": {
      "text/plain": [
       "array([ 0.11161388,  0.88838612])"
      ]
     },
     "execution_count": 598,
     "metadata": {},
     "output_type": "execute_result"
    }
   ],
   "source": [
    "fruit_qual_pcts"
   ]
  },
  {
   "cell_type": "markdown",
   "metadata": {},
   "source": [
    "### U2\n"
   ]
  },
  {
   "cell_type": "code",
   "execution_count": 599,
   "metadata": {
    "collapsed": false
   },
   "outputs": [
    {
     "data": {
      "text/plain": [
       "array([ 0.13705907,  0.86294093])"
      ]
     },
     "execution_count": 599,
     "metadata": {},
     "output_type": "execute_result"
    }
   ],
   "source": [
    "joint_prob_qual_accept = np.dot(fruit_qual_pcts, marginalized_cust_accept_trans)\n",
    "joint_prob_qual_accept"
   ]
  },
  {
   "cell_type": "code",
   "execution_count": 600,
   "metadata": {
    "collapsed": false
   },
   "outputs": [],
   "source": [
    "utility_no_inspection = [-40, 20]"
   ]
  },
  {
   "cell_type": "code",
   "execution_count": 601,
   "metadata": {
    "collapsed": false
   },
   "outputs": [
    {
     "data": {
      "text/plain": [
       "array([ -5.48236284,  17.25881858])"
      ]
     },
     "execution_count": 601,
     "metadata": {},
     "output_type": "execute_result"
    }
   ],
   "source": [
    "(joint_prob_qual_accept * utility_no_inspection)"
   ]
  },
  {
   "cell_type": "code",
   "execution_count": 602,
   "metadata": {
    "collapsed": false
   },
   "outputs": [
    {
     "name": "stdout",
     "output_type": "stream",
     "text": [
      "Utility of no human inspection: 11.77645573592974\n"
     ]
    }
   ],
   "source": [
    "print('Utility of no human inspection: {}'.format((joint_prob_qual_accept * utility_no_inspection).sum()))"
   ]
  },
  {
   "cell_type": "code",
   "execution_count": null,
   "metadata": {
    "collapsed": false
   },
   "outputs": [],
   "source": []
  },
  {
   "cell_type": "markdown",
   "metadata": {},
   "source": [
    "# U2\n"
   ]
  },
  {
   "cell_type": "code",
   "execution_count": 576,
   "metadata": {
    "collapsed": false
   },
   "outputs": [
    {
     "data": {
      "text/plain": [
       "32.68200000000003"
      ]
     },
     "execution_count": 576,
     "metadata": {},
     "output_type": "execute_result"
    }
   ],
   "source": [
    "good_given_inspector_inaccurate = 838 * (1-inspector_accuracy)\n",
    "good_given_inspector_inaccurate"
   ]
  },
  {
   "cell_type": "code",
   "execution_count": 577,
   "metadata": {
    "collapsed": false
   },
   "outputs": [
    {
     "data": {
      "text/plain": [
       "805.318"
      ]
     },
     "execution_count": 577,
     "metadata": {},
     "output_type": "execute_result"
    }
   ],
   "source": [
    "good_given_inspector_accurate = 838 * inspector_accuracy\n",
    "good_given_inspector_accurate"
   ]
  },
  {
   "cell_type": "code",
   "execution_count": 578,
   "metadata": {
    "collapsed": false
   },
   "outputs": [
    {
     "data": {
      "text/plain": [
       "0.961"
      ]
     },
     "execution_count": 578,
     "metadata": {},
     "output_type": "execute_result"
    }
   ],
   "source": [
    "good_given_inspector_accurate/(good_given_inspector_inaccurate + good_given_inspector_accurate)"
   ]
  },
  {
   "cell_type": "code",
   "execution_count": 579,
   "metadata": {
    "collapsed": false
   },
   "outputs": [
    {
     "data": {
      "text/plain": [
       "array([ 0.11161388,  0.88838612])"
      ]
     },
     "execution_count": 579,
     "metadata": {},
     "output_type": "execute_result"
    }
   ],
   "source": [
    "fruit_qual_pcts"
   ]
  },
  {
   "cell_type": "code",
   "execution_count": 580,
   "metadata": {
    "collapsed": false
   },
   "outputs": [
    {
     "data": {
      "text/plain": [
       "array([ 0.10726094,  0.85373906])"
      ]
     },
     "execution_count": 580,
     "metadata": {},
     "output_type": "execute_result"
    }
   ],
   "source": [
    "prob_given_accuracy = fruit_qual_pcts * inspector_accuracy\n",
    "prob_given_accuracy"
   ]
  },
  {
   "cell_type": "code",
   "execution_count": 581,
   "metadata": {
    "collapsed": false
   },
   "outputs": [
    {
     "data": {
      "text/plain": [
       "array([ 0.11161388,  0.88838612])"
      ]
     },
     "execution_count": 581,
     "metadata": {},
     "output_type": "execute_result"
    }
   ],
   "source": [
    "prob_given_accuracy_marginal = prob_given_accuracy/prob_given_accuracy.sum()\n",
    "prob_given_accuracy_marginal"
   ]
  },
  {
   "cell_type": "code",
   "execution_count": 582,
   "metadata": {
    "collapsed": true
   },
   "outputs": [],
   "source": [
    "utility_inspection = [-10]"
   ]
  },
  {
   "cell_type": "code",
   "execution_count": 583,
   "metadata": {
    "collapsed": false
   },
   "outputs": [
    {
     "data": {
      "text/plain": [
       "array([-1.11613876, -8.88386124])"
      ]
     },
     "execution_count": 583,
     "metadata": {},
     "output_type": "execute_result"
    }
   ],
   "source": [
    "prob_given_accuracy_marginal * utility_inspection"
   ]
  },
  {
   "cell_type": "code",
   "execution_count": 584,
   "metadata": {
    "collapsed": false
   },
   "outputs": [
    {
     "data": {
      "text/plain": [
       "-9.6099999999999994"
      ]
     },
     "execution_count": 584,
     "metadata": {},
     "output_type": "execute_result"
    }
   ],
   "source": [
    "(prob_given_accuracy * utility_inspection).sum()"
   ]
  },
  {
   "cell_type": "markdown",
   "metadata": {},
   "source": [
    "# U3 Calc --> Inspection by human inspectors only.\n"
   ]
  },
  {
   "cell_type": "code",
   "execution_count": 585,
   "metadata": {
    "collapsed": false
   },
   "outputs": [
    {
     "data": {
      "text/plain": [
       "array([ 0.11161388,  0.88838612])"
      ]
     },
     "execution_count": 585,
     "metadata": {},
     "output_type": "execute_result"
    }
   ],
   "source": [
    "prob_given_accuracy_marginal"
   ]
  },
  {
   "cell_type": "code",
   "execution_count": 586,
   "metadata": {
    "collapsed": false
   },
   "outputs": [
    {
     "data": {
      "text/html": [
       "<div>\n",
       "<style scoped>\n",
       "    .dataframe tbody tr th:only-of-type {\n",
       "        vertical-align: middle;\n",
       "    }\n",
       "\n",
       "    .dataframe tbody tr th {\n",
       "        vertical-align: top;\n",
       "    }\n",
       "\n",
       "    .dataframe thead th {\n",
       "        text-align: right;\n",
       "    }\n",
       "</style>\n",
       "<table border=\"1\" class=\"dataframe\">\n",
       "  <thead>\n",
       "    <tr style=\"text-align: right;\">\n",
       "      <th></th>\n",
       "      <th>accept0</th>\n",
       "      <th>accept1</th>\n",
       "    </tr>\n",
       "  </thead>\n",
       "  <tbody>\n",
       "    <tr>\n",
       "      <th>0</th>\n",
       "      <td>0.876543</td>\n",
       "      <td>0.123457</td>\n",
       "    </tr>\n",
       "    <tr>\n",
       "      <th>1</th>\n",
       "      <td>0.044153</td>\n",
       "      <td>0.955847</td>\n",
       "    </tr>\n",
       "  </tbody>\n",
       "</table>\n",
       "</div>"
      ],
      "text/plain": [
       "    accept0   accept1\n",
       "0  0.876543  0.123457\n",
       "1  0.044153  0.955847"
      ]
     },
     "execution_count": 586,
     "metadata": {},
     "output_type": "execute_result"
    }
   ],
   "source": [
    "marginalized_cust_accept_trans"
   ]
  },
  {
   "cell_type": "code",
   "execution_count": 587,
   "metadata": {
    "collapsed": false
   },
   "outputs": [
    {
     "data": {
      "text/html": [
       "<div>\n",
       "<style scoped>\n",
       "    .dataframe tbody tr th:only-of-type {\n",
       "        vertical-align: middle;\n",
       "    }\n",
       "\n",
       "    .dataframe tbody tr th {\n",
       "        vertical-align: top;\n",
       "    }\n",
       "\n",
       "    .dataframe thead th {\n",
       "        text-align: right;\n",
       "    }\n",
       "</style>\n",
       "<table border=\"1\" class=\"dataframe\">\n",
       "  <thead>\n",
       "    <tr style=\"text-align: right;\">\n",
       "      <th></th>\n",
       "      <th>accept0</th>\n",
       "      <th>accept1</th>\n",
       "    </tr>\n",
       "  </thead>\n",
       "  <tbody>\n",
       "    <tr>\n",
       "      <th>0</th>\n",
       "      <td>0.097834</td>\n",
       "      <td>0.109677</td>\n",
       "    </tr>\n",
       "    <tr>\n",
       "      <th>1</th>\n",
       "      <td>0.004928</td>\n",
       "      <td>0.849161</td>\n",
       "    </tr>\n",
       "  </tbody>\n",
       "</table>\n",
       "</div>"
      ],
      "text/plain": [
       "    accept0   accept1\n",
       "0  0.097834  0.109677\n",
       "1  0.004928  0.849161"
      ]
     },
     "execution_count": 587,
     "metadata": {},
     "output_type": "execute_result"
    }
   ],
   "source": [
    "probabilities_of_accepting_updated = prob_given_accuracy_marginal * marginalized_cust_accept_trans\n",
    "probabilities_of_accepting_updated"
   ]
  },
  {
   "cell_type": "code",
   "execution_count": 588,
   "metadata": {
    "collapsed": false
   },
   "outputs": [
    {
     "data": {
      "text/plain": [
       "0    0.19547\n",
       "1    0.80453\n",
       "dtype: float64"
      ]
     },
     "execution_count": 588,
     "metadata": {},
     "output_type": "execute_result"
    }
   ],
   "source": [
    "marginal_probs =  probabilities_of_accepting_updated.sum(axis=1)\n",
    "marginal_probs = marginal_probs/marginal_probs.sum()\n",
    "marginal_probs"
   ]
  },
  {
   "cell_type": "code",
   "execution_count": 589,
   "metadata": {
    "collapsed": false
   },
   "outputs": [
    {
     "data": {
      "text/plain": [
       "array([ 0.20751168,  0.8540895 ])"
      ]
     },
     "execution_count": 589,
     "metadata": {},
     "output_type": "execute_result"
    }
   ],
   "source": [
    "# Double check\n",
    "np.dot(marginalized_cust_accept_trans, prob_given_accuracy_marginal)"
   ]
  },
  {
   "cell_type": "code",
   "execution_count": 590,
   "metadata": {
    "collapsed": true
   },
   "outputs": [],
   "source": [
    "manual_inspection_utilities = np.array([-50, 10])"
   ]
  },
  {
   "cell_type": "code",
   "execution_count": 591,
   "metadata": {
    "collapsed": false
   },
   "outputs": [
    {
     "data": {
      "text/plain": [
       "0   -9.773524\n",
       "1    8.045295\n",
       "dtype: float64"
      ]
     },
     "execution_count": 591,
     "metadata": {},
     "output_type": "execute_result"
    }
   ],
   "source": [
    "manual_inspection_utilities * marginal_probs"
   ]
  },
  {
   "cell_type": "code",
   "execution_count": 592,
   "metadata": {
    "collapsed": false
   },
   "outputs": [
    {
     "data": {
      "text/plain": [
       "-1.7282283530302731"
      ]
     },
     "execution_count": 592,
     "metadata": {},
     "output_type": "execute_result"
    }
   ],
   "source": [
    "u3_expected_utility = (manual_inspection_utilities * marginal_probs).sum()\n",
    "u3_expected_utility"
   ]
  },
  {
   "cell_type": "code",
   "execution_count": 593,
   "metadata": {
    "collapsed": false,
    "scrolled": true
   },
   "outputs": [
    {
     "name": "stdout",
     "output_type": "stream",
     "text": [
      "Utility of inspection by human inspectors only: -1.7282283530302731\n"
     ]
    }
   ],
   "source": [
    "print('Utility of inspection by human inspectors only: {}'.format(u3_expected_utility))"
   ]
  },
  {
   "cell_type": "code",
   "execution_count": 594,
   "metadata": {
    "collapsed": false
   },
   "outputs": [
    {
     "name": "stdout",
     "output_type": "stream",
     "text": [
      "sensor_inspect_accept_order_node_marginal:  [ 0.12751759  0.87248241]\n",
      "probability it will be sent for manual inspection: 0.12751759387032627\n",
      "\n",
      " manual_inspect_node:  0.122544407709\n",
      "\n",
      " manual_inspect_node_marginal:  [ 0.12254441  0.87745559]\n",
      "\n",
      " marginalized_cust_accept_trans     accept0   accept1\n",
      "0  0.876543  0.123457\n",
      "1  0.044153  0.955847\n",
      "\n",
      " probabilities_of_cust_accepting_sensor_manual:\n",
      "     accept0   accept1\n",
      "0  0.107415  0.108328\n",
      "1  0.005411  0.838714\n",
      "\n",
      " marginal_probs: 0    0.19547\n",
      "1    0.80453\n",
      "dtype: float64\n",
      "\n",
      " manual_inspection_utilities: [-50  10]\n",
      "\n",
      " expected_utility: -1.72822835303\n",
      "\n",
      " double check expected_utility:  -1.72822835303\n",
      "Utility of no human inspection: -1.7282283530302731\n"
     ]
    }
   ],
   "source": [
    "# We then recompute the utilities below\n",
    "calc_u4()"
   ]
  },
  {
   "cell_type": "code",
   "execution_count": 595,
   "metadata": {
    "collapsed": false
   },
   "outputs": [
    {
     "name": "stdout",
     "output_type": "stream",
     "text": [
      "sensor_manual_inspect_accept_node:  [ 0.13725956  0.93913747]\n",
      "\n",
      " utilities: [-40  20]\n",
      "\n",
      " expected_utility_u5: 13.2923670893\n",
      "\n",
      " double check: 13.2923670893\n"
     ]
    }
   ],
   "source": [
    "calc_u5()"
   ]
  },
  {
   "cell_type": "markdown",
   "metadata": {},
   "source": [
    "# Summary of utilities:\n"
   ]
  },
  {
   "cell_type": "code",
   "execution_count": 604,
   "metadata": {
    "collapsed": false
   },
   "outputs": [
    {
     "name": "stdout",
     "output_type": "stream",
     "text": [
      "Utility of inspection by human inspectors only: -1.7282283530302731\n",
      "Inspection with sensors, then with humans: -3.978050617065266\n",
      "Utility of no human inspection: 11.77645573592974\n",
      "Inspection with sensors only: 12.828245309570148\n"
     ]
    }
   ],
   "source": [
    "print('Utility of inspection by human inspectors only: {}'.format(u3_expected_utility))\n",
    "print('Inspection with sensors, then with humans: {}'.format(expected_utility.sum()))\n",
    "print('Utility of no human inspection: {}'.format((joint_prob_qual_accept * utility_no_inspection).sum()))\n",
    "print('Inspection with sensors only: {}'.format(expected_utility_u5))\n"
   ]
  },
  {
   "cell_type": "markdown",
   "metadata": {},
   "source": [
    "### Summary of challenge\n",
    "\n",
    "* The challenge was extemely interesting and allowed us to explore many different approaches and deal with the tradeoffs and challenges which come from struturing the problem in different ways\n",
    "* The decision of when to marginalize and when not to was a large source of confusion \n",
    "* Decisions related to when to transpose a matrix and when not to were also a challenge\n",
    "* Overall it was a great learning experience"
   ]
  }
 ],
 "metadata": {
  "kernelspec": {
   "display_name": "Python 3",
   "language": "python",
   "name": "python3"
  },
  "language_info": {
   "codemirror_mode": {
    "name": "ipython",
    "version": 3
   },
   "file_extension": ".py",
   "mimetype": "text/x-python",
   "name": "python",
   "nbconvert_exporter": "python",
   "pygments_lexer": "ipython3",
   "version": "3.6.3"
  }
 },
 "nbformat": 4,
 "nbformat_minor": 2
}
